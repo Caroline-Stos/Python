{
 "cells": [
  {
   "cell_type": "markdown",
   "id": "9dd4c2d2",
   "metadata": {},
   "source": [
    "# Lista de Exercícios \n",
    "\n",
    "## Estrutura de Repetições \n",
    "\n",
    "\n",
    "# \n",
    "\n",
    "#\n"
   ]
  },
  {
   "cell_type": "markdown",
   "id": "a11e7125",
   "metadata": {},
   "source": [
    "# Exercício 1:\n",
    "## Situação Problema: Um professor deseja imprimir na tela os números pares de 0 a 10 para ensinar os alunos sobre os conceitos de números pares e o uso da estrutura de repetição for."
   ]
  },
  {
   "cell_type": "code",
   "execution_count": 8,
   "id": "70b32ec8",
   "metadata": {},
   "outputs": [
    {
     "name": "stdout",
     "output_type": "stream",
     "text": [
      "0\n",
      "2\n",
      "4\n",
      "6\n",
      "8\n",
      "10\n"
     ]
    }
   ],
   "source": [
    "numeros = [0, 1, 2, 3, 4, 5, 6, 7, 8, 9, 10]\n",
    "\n",
    "for numero in numeros:\n",
    "    if numero % 2 == 0:\n",
    "        print(numero)"
   ]
  },
  {
   "cell_type": "markdown",
   "id": "774c24f7",
   "metadata": {},
   "source": [
    "# Exercício 2:\n",
    "## Situação Problema: Um vendedor de frutas quer mostrar ao cliente as frutas disponíveis em sua banca. Ele possui uma lista de nomes de frutas e deseja imprimir cada nome em uma linha separada para facilitar a visualização."
   ]
  },
  {
   "cell_type": "code",
   "execution_count": 1,
   "id": "2355128b",
   "metadata": {},
   "outputs": [
    {
     "name": "stdout",
     "output_type": "stream",
     "text": [
      "maca\n",
      "banana\n",
      "manga\n",
      "limao\n",
      "melao\n",
      "pera\n"
     ]
    }
   ],
   "source": [
    "frutas = ['maca', 'banana', 'manga', 'limao', 'melao', 'pera']\n",
    "\n",
    "for i in range(6):\n",
    "    print(frutas[i])"
   ]
  },
  {
   "cell_type": "markdown",
   "id": "4a8789d6",
   "metadata": {},
   "source": [
    "# Exercício 3:\n",
    "## Situação Problema: Uma criança está aprendendo a tabuada e precisa praticar a tabuada de um número específico. O programa pede à criança para digitar um número e, em seguida, imprime a tabuada desse número de 1 a 10 para ajudá-la a praticar."
   ]
  },
  {
   "cell_type": "code",
   "execution_count": 28,
   "id": "4fe9fcc5",
   "metadata": {},
   "outputs": [
    {
     "name": "stdout",
     "output_type": "stream",
     "text": [
      "Digite um numero: 9\n",
      "0\n",
      "9\n",
      "18\n",
      "27\n",
      "36\n",
      "45\n",
      "54\n",
      "63\n",
      "72\n",
      "81\n"
     ]
    }
   ],
   "source": [
    "numero = int(input('Digite um numero: '))\n",
    "\n",
    "for i in range(10):\n",
    "    tabuada = numero * i\n",
    "    print(tabuada)"
   ]
  },
  {
   "cell_type": "markdown",
   "id": "73292b54",
   "metadata": {},
   "source": [
    "# Exercício 4:\n",
    "## Situação Problema: Um cientista está analisando dados experimentais e deseja saber o valor e a posição de cada leitura registrada. O programa recebe uma lista de números, e o cientista precisa imprimir cada valor junto com sua respectiva posição na lista."
   ]
  },
  {
   "cell_type": "code",
   "execution_count": 38,
   "id": "efd1518c",
   "metadata": {},
   "outputs": [
    {
     "name": "stdout",
     "output_type": "stream",
     "text": [
      "O numero 10, está na posição 0\n",
      "O numero 20, está na posição 1\n",
      "O numero 35, está na posição 2\n",
      "O numero 40, está na posição 3\n",
      "O numero 45, está na posição 4\n",
      "O numero 50, está na posição 5\n",
      "O numero 55, está na posição 6\n",
      "O numero 60, está na posição 7\n",
      "O numero 65, está na posição 8\n"
     ]
    }
   ],
   "source": [
    "lista = [10, 20, 35, 40, 45, 50, 55, 60, 65]\n",
    "\n",
    "for numero in lista:\n",
    "    posicao = lista.index(numero)\n",
    "    print('O numero {}, está na posição {}'.format(numero, posicao))\n"
   ]
  },
  {
   "cell_type": "markdown",
   "id": "dfa079f6",
   "metadata": {},
   "source": [
    "# Exercício 5:\n",
    "## Situação Problema: Um caixa de supermercado precisa calcular o total de uma compra. Ele registra o preço de cada produto em uma lista e, em seguida, usa um loop for para somar todos os preços e obter o valor total da compra."
   ]
  },
  {
   "cell_type": "code",
   "execution_count": 106,
   "id": "4022ade0",
   "metadata": {},
   "outputs": [
    {
     "name": "stdout",
     "output_type": "stream",
     "text": [
      "Digite o valor do produto: 565\n",
      "Subtotal: R$ 565\n",
      "Digite o valor do produto: 2323\n",
      "Subtotal: R$ 2888\n",
      "Digite o valor do produto: 232\n",
      "Subtotal: R$ 3120\n",
      "Digite o valor do produto: 1542\n",
      "Subtotal: R$ 4662\n",
      "Digite o valor do produto: 545\n",
      "Subtotal: R$ 5207\n",
      "Digite o valor do produto: 544\n",
      "Subtotal: R$ 5751\n",
      "Digite o valor do produto: 15484\n",
      "Subtotal: R$ 21235\n",
      "Digite o valor do produto: 5484\n",
      "Subtotal: R$ 26719\n",
      "Digite o valor do produto: 1548\n",
      "Subtotal: R$ 28267\n",
      "Digite o valor do produto: 15484\n",
      "Subtotal: R$ 43751\n",
      "Total: R$ 43751\n"
     ]
    }
   ],
   "source": [
    "compra = []\n",
    "\n",
    "for i in range(10):\n",
    "    if i < 10:\n",
    "        valor = int(input('Digite o valor do produto: '))\n",
    "        compra.append(valor)\n",
    "        print('Subtotal: R$', sum(compra))\n",
    "    else:\n",
    "        pass\n",
    "print('Total: R$', sum(compra))\n"
   ]
  },
  {
   "cell_type": "markdown",
   "id": "e133fb36",
   "metadata": {},
   "source": [
    "# Exercício 6:\n",
    "## Situação Problema: Um professor quer ensinar aos alunos como contar as vogais em uma frase. O programa pede ao aluno para digitar uma frase e, em seguida, conta quantas vogais existem nessa frase, mostrando o resultado na tela."
   ]
  },
  {
   "cell_type": "code",
   "execution_count": 134,
   "id": "e76888d1",
   "metadata": {},
   "outputs": [
    {
     "name": "stdout",
     "output_type": "stream",
     "text": [
      "Digite uma palavra: caroline\n",
      "A quantidade de vogais na palavra caroline é/são: 4\n"
     ]
    }
   ],
   "source": [
    "palavra = input('Digite uma palavra: ')\n",
    "\n",
    "vogais = ['a','e','i','o','u']\n",
    "\n",
    "ocorrencia = []\n",
    "\n",
    "for i in palavra:\n",
    "    if i in vogais:\n",
    "        ocorrencia.append(1)\n",
    "print(f'A quantidade de vogais na palavra {palavra} é/são:', sum(ocorrencia))"
   ]
  },
  {
   "cell_type": "markdown",
   "id": "9f19b6dc",
   "metadata": {},
   "source": [
    "# Exercício 7:\n",
    "## Situação Problema: Um jogador está jogando um jogo de adivinhação e precisa descobrir o número mais alto dentre várias tentativas. O programa recebe uma lista de números inseridos pelo jogador e exibe o maior número após todas as tentativas."
   ]
  },
  {
   "cell_type": "code",
   "execution_count": 25,
   "id": "c325a255",
   "metadata": {},
   "outputs": [
    {
     "name": "stdout",
     "output_type": "stream",
     "text": [
      "JOGO DE ADIVINHAÇÃO, TENTE ADIVINHAR O MAIOR NUMERO INSERIDO APÓS 10 TENTATIVAS\n",
      "Digite um número: 10\n",
      "Digite um número: 20\n",
      "Digite um número: 30\n",
      "Digite um número: 40\n",
      "Digite um número: 50\n",
      "Digite um número: 60\n",
      "Digite um número: 70\n",
      "Digite um número: 80\n",
      "Digite um número: 90\n",
      "Digite um número: 100\n",
      "O maior numero é: 100\n"
     ]
    }
   ],
   "source": [
    "lista_num = []\n",
    "\n",
    "print('JOGO DE ADIVINHAÇÃO, TENTE ADIVINHAR O MAIOR NUMERO INSERIDO APÓS 10 TENTATIVAS')\n",
    "\n",
    "for i in range(10):\n",
    "    num = int(input('Digite um número: '))\n",
    "    lista_num.append(num)\n",
    "\n",
    "lista_num.sort()\n",
    "print('O maior numero é: {}'.format(lista_num[-1]))\n",
    "        "
   ]
  },
  {
   "cell_type": "markdown",
   "id": "d8bdadbe",
   "metadata": {},
   "source": [
    "# Exercício 9:\n",
    "## Situação Problema: Um professor deseja ensinar o alfabeto para seus alunos. O programa pede ao aluno para digitar uma palavra e, em seguida, exibe cada letra da palavra em uma linha separada para ajudar os alunos a praticarem o reconhecimento das letras."
   ]
  },
  {
   "cell_type": "code",
   "execution_count": 11,
   "id": "19e9a80c",
   "metadata": {},
   "outputs": [
    {
     "name": "stdout",
     "output_type": "stream",
     "text": [
      "Digite uma palavra: caroline\n",
      "C\n",
      "A\n",
      "R\n",
      "O\n",
      "L\n",
      "I\n",
      "N\n",
      "E\n"
     ]
    }
   ],
   "source": [
    "palavra = input('Digite uma palavra: ').upper()\n",
    "\n",
    "letras = []\n",
    "letras.extend(palavra)\n",
    "print('\\n'.join(letras))"
   ]
  },
  {
   "cell_type": "code",
   "execution_count": null,
   "id": "7b719f50",
   "metadata": {},
   "outputs": [],
   "source": []
  }
 ],
 "metadata": {
  "kernelspec": {
   "display_name": "Python 3 (ipykernel)",
   "language": "python",
   "name": "python3"
  },
  "language_info": {
   "codemirror_mode": {
    "name": "ipython",
    "version": 3
   },
   "file_extension": ".py",
   "mimetype": "text/x-python",
   "name": "python",
   "nbconvert_exporter": "python",
   "pygments_lexer": "ipython3",
   "version": "3.11.3"
  }
 },
 "nbformat": 4,
 "nbformat_minor": 5
}
