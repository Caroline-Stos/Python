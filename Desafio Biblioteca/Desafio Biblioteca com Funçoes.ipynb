{
 "cells": [
  {
   "cell_type": "markdown",
   "id": "3ca3903d",
   "metadata": {},
   "source": [
    "# Desafio de Aprendizagem - Biblioteca SENAI \"Morvan Figueiredo\""
   ]
  },
  {
   "cell_type": "markdown",
   "id": "240591c0",
   "metadata": {},
   "source": [
    "## Você está encarregado de criar um sistema de gerenciamento de empréstimos de livros, coleta de avaliações de livros pelos alunos e registro de avaliações do atendimento da biblioteca para a Escola SENAI \"Morvan Figueiredo\". \n",
    "## Utilize o programa fornecido abaixo e siga as instruções para realizar as tarefas."
   ]
  },
  {
   "cell_type": "markdown",
   "id": "bdf3496d",
   "metadata": {},
   "source": [
    "### Ao finalizar as tarefas, reflita sobre o processo e explique como o programa demonstra o uso de estruturas de dados, iterações e interações com o usuário para gerenciar empréstimos, avaliações e atendimento da biblioteca."
   ]
  },
  {
   "cell_type": "markdown",
   "id": "0d52d3cd",
   "metadata": {},
   "source": [
    ".\n",
    ".\n",
    "\n",
    "..\n",
    ".\n",
    ".\n",
    ".\n",
    "..\n",
    ".\n",
    ".\n",
    ".\n",
    ".\n",
    ".\n",
    ".\n",
    "\n",
    ".\n",
    ".\n",
    ".\n",
    "."
   ]
  },
  {
   "cell_type": "markdown",
   "id": "7b451d37",
   "metadata": {},
   "source": [
    "### Esse desafio de aprendizagem combina os conceitos que vimos até o momento, como estruturas de controle, manipulação de dicionários, listas e iterações. Ao concluir as tarefas e a reflexão, você estará aplicando diversos aspectos da programação em um cenário realista."
   ]
  },
  {
   "cell_type": "markdown",
   "id": "bd33428b",
   "metadata": {},
   "source": [
    "## Tarefas:"
   ]
  },
  {
   "cell_type": "markdown",
   "id": "8ea15f61",
   "metadata": {},
   "source": [
    "## 1 - Registro de Empréstimos:\n",
    "\n",
    "### Registre os empréstimos de livros para os  alunos fictícios da escola.\n",
    "## 2 -  Avaliação de Livros:\n",
    "\n",
    "### Após os empréstimos, simule que os alunos leram os livros e atribua notas de avaliação aos livros emprestados.\n",
    "\n",
    "## 3 - Avaliação do Atendimento da Biblioteca:\n",
    "\n",
    "###  Registre avaliações do atendimento da biblioteca por parte dos alunos.\n",
    "\n",
    "## 4 - Imprimir Relatório:\n",
    "\n",
    "### Após realizar as ações anteriores, imprima um relatório que apresente as informações sobre os empréstimos, avaliações dos livros e a média das avaliações do atendimento da biblioteca.\n"
   ]
  },
  {
   "cell_type": "code",
   "execution_count": 1,
   "id": "e2b41de2",
   "metadata": {},
   "outputs": [
    {
     "name": "stdout",
     "output_type": "stream",
     "text": [
      "{'ANA': {'livro': 'O CORTICO', 'nota_livro': 0, 'nota_atend': 0}, 'CARLOS': {'livro': 0, 'nota_livro': 0, 'nota_atend': 0}, 'MARCIA': {'livro': 0, 'nota_livro': 0, 'nota_atend': 0}}\n",
      "Favor, informar uma nota de 0 a 10.\n",
      "RELATÓRIO DE EMPRÉSTIMOS\n",
      "\n",
      "    Aluno: ANA\n",
      "    Livro: O CORTICO\n",
      "    Nota - livro: 9\n",
      "    \n",
      "\n",
      "    Aluno: CARLOS\n",
      "    Livro: 0\n",
      "    Nota - livro: 0\n",
      "    \n",
      "\n",
      "    Aluno: MARCIA\n",
      "    Livro: 0\n",
      "    Nota - livro: 0\n",
      "    \n",
      "Média de atendimento: 10\n"
     ]
    }
   ],
   "source": [
    "alunos = {}\n",
    "\n",
    "alunos[('ANA')] = {'livro': 0, 'nota_livro': 0, 'nota_atend': 0}\n",
    "alunos[('CARLOS')] = {'livro': 0, 'nota_livro': 0, 'nota_atend': 0}\n",
    "alunos[('MARCIA')] = {'livro': 0, 'nota_livro': 0, 'nota_atend': 0}\n",
    "\n",
    "livros = ['ORGULHO E PRECONCEITO', 'GUERRA E PAZ', 'O CASTELO', 'O CORTICO']\n",
    "\n",
    "i = 1\n",
    "\n",
    "# registrando o aluno e o livro emprestado\n",
    "\n",
    "while i == True:\n",
    "    aluno = input('Digite o nome do aluno: ').upper()\n",
    "    if aluno == '':\n",
    "        break\n",
    "    livro = input('Digite o nome do livro: ').upper()\n",
    "    if aluno in alunos and livro in livros:\n",
    "        alunos[aluno]['livro'] = livro\n",
    "    else:\n",
    "        print('Favor, informar aluno e livro corretamente.')\n",
    "        \n",
    "print(alunos)\n",
    "\n",
    "# registrando a nota do livro e antendimento\n",
    "\n",
    "while i == True:\n",
    "    aluno = input('Digite o nome do aluno: ').upper()\n",
    "    if aluno == '':\n",
    "        break\n",
    "    if aluno in alunos:\n",
    "        if alunos[aluno]['livro'] != 0:\n",
    "            nota_livro = int(input('Digite a nota do para o livro: '))\n",
    "            nota_atend = int(input('Digite a nota do para o atendimento: '))\n",
    "            if nota_livro and nota_atend != range(0,10):\n",
    "                print('Favor, informar uma nota de 0 a 10.')\n",
    "                alunos[aluno]['nota_livro'] = nota_livro\n",
    "                alunos[aluno]['nota_atend'] = nota_atend\n",
    "        else:\n",
    "            print(f'O aluno {aluno} não possui livro para atribuir nota.')\n",
    "    else:\n",
    "        print('Aluno(a) não encontrado(a).')\n",
    "\n",
    "# fazendo a media\n",
    "\n",
    "media = []\n",
    "\n",
    "for aluno in alunos:\n",
    "    nota = alunos[aluno].get('nota_atend')\n",
    "    if nota > 0:\n",
    "        media.append(nota)\n",
    "\n",
    "media = sum(media) / len(media)\n",
    "media = round(media)\n",
    "\n",
    "#imprimindo relatorio\n",
    "\n",
    "print('RELATÓRIO DE EMPRÉSTIMOS')\n",
    "for aluno in alunos:\n",
    "    print(f\"\"\"\n",
    "    Aluno: {aluno}\n",
    "    Livro: {alunos[aluno]['livro']}\n",
    "    Nota - livro: {alunos[aluno]['nota_livro']}\n",
    "    \"\"\")\n",
    "print(f'Média de atendimento: {media}')\n"
   ]
  },
  {
   "cell_type": "code",
   "execution_count": null,
   "id": "396e95ef",
   "metadata": {},
   "outputs": [],
   "source": []
  }
 ],
 "metadata": {
  "kernelspec": {
   "display_name": "Python 3 (ipykernel)",
   "language": "python",
   "name": "python3"
  },
  "language_info": {
   "codemirror_mode": {
    "name": "ipython",
    "version": 3
   },
   "file_extension": ".py",
   "mimetype": "text/x-python",
   "name": "python",
   "nbconvert_exporter": "python",
   "pygments_lexer": "ipython3",
   "version": "3.11.4"
  }
 },
 "nbformat": 4,
 "nbformat_minor": 5
}
