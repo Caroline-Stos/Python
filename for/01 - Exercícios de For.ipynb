{
 "cells": [
  {
   "cell_type": "markdown",
   "metadata": {},
   "source": [
    "# Exercícios\n",
    "\n",
    "## 1. Criando um Registro de Hóspedes\n",
    "\n",
    "Digamos que você está criando o sistema para registrar a chegada de hóspedes em um hotel. No hotel, os hóspedes podem ter quartos com 1, 2, 3 e 4 pessoas. Seu sistema deve conseguir:\n",
    "\n",
    "1. Identificar quantas pessoas o hóspede que acabou de chegar vai ter no quarto (perguntando por meio de input)\n",
    "2. De acordo com a quantidade de pessoas do hóspede, ele deve fazer um for para perguntar o cpf e o nome de cada pessoa, a fim de registrá-la no quarto (2 inputs para cada pessoa, 1 para o cpf e outro para o nome)\n",
    "3. O seu programa então deve gerar uma lista com todas as pessoas que ficarão no quarto em que cada item dessa lista é o nome da pessoa e o cpf da pessoa, assim:"
   ]
  },
  {
   "cell_type": "raw",
   "metadata": {},
   "source": [
    "quarto = [\n",
    "    ['João', 'cpf:00000000000'],\n",
    "    ['Julia', 'cpf:11111111111'],\n",
    "    ['Marcus', 'cpf:22222222222'],\n",
    "    ['Maria', 'cpf:33333333333'],\n",
    "]"
   ]
  },
  {
   "cell_type": "markdown",
   "metadata": {},
   "source": [
    "- Para simplificar, não vamos nos preocupar com possibilidades de \"tentar colocar mais de 1 hóspede, digitar o cpf errado, etc. Nosso objetivo é treinar a criação de uma rotina de cadastro"
   ]
  },
  {
   "cell_type": "code",
   "execution_count": 20,
   "metadata": {},
   "outputs": [
    {
     "name": "stdout",
     "output_type": "stream",
     "text": [
      "Quarto para quantas pessoas? 2\n",
      "Digite o nome da pessoa: carol\n",
      "Digite o CPF da pessoa: 466\n",
      "Digite o nome da pessoa: carol\n",
      "Digite o CPF da pessoa: 466\n",
      "Lista de hóspedes: [('carol', '466'), ('carol', '466')]\n"
     ]
    }
   ],
   "source": [
    "quarto = []\n",
    "\n",
    "qtde_pessoas = input('Quarto para quantas pessoas? ')\n",
    "tamanho = int(qtde_pessoas)\n",
    "\n",
    "for i in range(tamanho):\n",
    "    nome = input('Digite o nome da pessoa: ')\n",
    "    cpf = input('Digite o CPF da pessoa: ')\n",
    "    hospede = nome, cpf\n",
    "    quarto.append(hospede)\n",
    "else:\n",
    "    print('Lista de hóspedes: {}'.format(quarto))\n"
   ]
  },
  {
   "cell_type": "markdown",
   "metadata": {},
   "source": [
    "## 2. Análise de Vendas\n",
    "\n",
    "Nesse exercício vamos fazer uma \"análise simples\" de atingimento de Meta.\n",
    "\n",
    "Temos uma lista com os vendedores e os valores de vendas e queremos identificar (printar) quais os vendedores que bateram a meta e qual foi o valor que eles venderam."
   ]
  },
  {
   "cell_type": "code",
   "execution_count": 1,
   "metadata": {},
   "outputs": [
    {
     "name": "stdout",
     "output_type": "stream",
     "text": [
      "('João', 15000)\n",
      "('Julia', 27000)\n",
      "('Ana', 10300)\n"
     ]
    }
   ],
   "source": [
    "meta = 10000\n",
    "vendas = [\n",
    "    ['João', 15000],\n",
    "    ['Julia', 27000],\n",
    "    ['Marcus', 9900],\n",
    "    ['Maria', 3750],\n",
    "    ['Ana', 10300],\n",
    "    ['Alon', 7870],\n",
    "]\n",
    "\n",
    "for lista in vendas:\n",
    "    if lista[1] >= meta:\n",
    "        vendedor = lista[0], lista[1]\n",
    "        print(vendedor)"
   ]
  },
  {
   "cell_type": "markdown",
   "metadata": {},
   "source": [
    "## 3. Comparação com Ano Anterior\n",
    "\n",
    "Digamos que você está analisando as vendas de produtos de um ecommerce e quer identificar quais produtos tiveram no ano de 2020 mais vendas do que no ano de 2019, para reportar isso para a diretoria.\n",
    "\n",
    "Sua resposta pode ser um print de cada produto, qual foi a venda de 2019, a venda de 2020 e o % de crescimento de 2020 para 2019.\n",
    "\n",
    "Lembrando, para calcular o % de crescimento de um produto de um ano para o outro, podemos fazer: (vendas_produto2020/vendas_produto2019 - 1)\n",
    "\n",
    "Dica: lembre do enumerate, ele pode facilitar seu \"for\""
   ]
  },
  {
   "cell_type": "code",
   "execution_count": 62,
   "metadata": {},
   "outputs": [
    {
     "name": "stdout",
     "output_type": "stream",
     "text": [
      "\n",
      "        Produto: iphone\n",
      "        Venda2019: 558147\n",
      "        Venda2020: 951642\n",
      "        Crescimento %: 0.7050024455922903\n",
      "\n",
      "        Produto: tv\n",
      "        Venda2019: 405252\n",
      "        Venda2020: 787604\n",
      "        Crescimento %: 0.9434919506874735\n",
      "\n",
      "        Produto: máquina de café\n",
      "        Venda2019: 718654\n",
      "        Venda2020: 867660\n",
      "        Crescimento %: 0.20734038911632013\n",
      "\n",
      "        Produto: notebook dell\n",
      "        Venda2019: 422760\n",
      "        Venda2020: 694913\n",
      "        Crescimento %: 0.6437529567603368\n",
      "\n",
      "        Produto: notebook hp\n",
      "        Venda2019: 154753\n",
      "        Venda2020: 539704\n",
      "        Crescimento %: 2.487518820313661\n",
      "\n",
      "        Produto: microsoft surface\n",
      "        Venda2019: 438508\n",
      "        Venda2020: 667179\n",
      "        Crescimento %: 0.5214750928147263\n",
      "\n",
      "        Produto: webcam\n",
      "        Venda2019: 237467\n",
      "        Venda2020: 295633\n",
      "        Crescimento %: 0.2449435079400506\n",
      "\n",
      "        Produto: caixa de som\n",
      "        Venda2019: 489705\n",
      "        Venda2020: 725316\n",
      "        Crescimento %: 0.4811284344656477\n",
      "\n",
      "        Produto: microfone\n",
      "        Venda2019: 328311\n",
      "        Venda2020: 644622\n",
      "        Crescimento %: 0.963449290459351\n",
      "\n",
      "        Produto: câmera canon\n",
      "        Venda2019: 591120\n",
      "        Venda2020: 994303\n",
      "        Crescimento %: 0.6820662471241035\n"
     ]
    }
   ],
   "source": [
    "produtos = ['iphone', 'galaxy', 'ipad', 'tv', 'máquina de café', 'kindle', 'geladeira', 'adega', 'notebook dell', 'notebook hp', 'notebook asus', 'microsoft surface', 'webcam', 'caixa de som', 'microfone', 'câmera canon']\n",
    "vendas2019 = [558147,712350,573823,405252,718654,531580,973139,892292,422760,154753,887061,438508,237467,489705,328311,591120]\n",
    "vendas2020 = [951642,244295,26964,787604,867660,78830,710331,646016,694913,539704,324831,667179,295633,725316,644622,994303]\n",
    "\n",
    "for i, venda in enumerate(vendas2020):\n",
    "    if vendas2020[i] > vendas2019[i]:\n",
    "        porcentagem = (vendas2020[i] / vendas2019[i]) - 1\n",
    "        produto = produtos[i]\n",
    "        print(\"\"\"\n",
    "        Produto: {}\n",
    "        Venda2019: {}\n",
    "        Venda2020: {}\n",
    "        Crescimento %: {}\"\"\".format(produto, vendas2019[i], venda, porcentagem))\n",
    "            \n",
    "                "
   ]
  },
  {
   "cell_type": "code",
   "execution_count": null,
   "metadata": {},
   "outputs": [],
   "source": []
  }
 ],
 "metadata": {
  "kernelspec": {
   "display_name": "Python 3 (ipykernel)",
   "language": "python",
   "name": "python3"
  },
  "language_info": {
   "codemirror_mode": {
    "name": "ipython",
    "version": 3
   },
   "file_extension": ".py",
   "mimetype": "text/x-python",
   "name": "python",
   "nbconvert_exporter": "python",
   "pygments_lexer": "ipython3",
   "version": "3.11.3"
  }
 },
 "nbformat": 4,
 "nbformat_minor": 4
}
