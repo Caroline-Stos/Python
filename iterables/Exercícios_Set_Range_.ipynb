{
 "cells": [
  {
   "cell_type": "markdown",
   "metadata": {
    "id": "rsCcO7j-xv-T"
   },
   "source": [
    "# Exercícios iterables - set - range"
   ]
  },
  {
   "cell_type": "markdown",
   "metadata": {
    "id": "p15zoqjcx_E0"
   },
   "source": [
    "\n",
    "\n",
    "\n",
    "\n",
    "\n",
    "\n",
    "\n",
    "\n",
    "\n",
    "."
   ]
  },
  {
   "cell_type": "markdown",
   "metadata": {
    "id": "KwqaC7qlxpsE"
   },
   "source": [
    "# Vamos mergulhar em uma jornada empolgante pelo mundo da programação em Python, explorando dois métodos poderosos: set() e range(). Vamos entender por que esses métodos são essenciais e como eles podem ser aplicados em várias situações para resolver problemas de maneira eficaz e elegante."
   ]
  },
  {
   "cell_type": "code",
   "execution_count": null,
   "metadata": {
    "id": "0ODmnhidtw-Q"
   },
   "outputs": [],
   "source": []
  },
  {
   "cell_type": "code",
   "execution_count": null,
   "metadata": {
    "id": "pbRVWhjYtxAQ"
   },
   "outputs": [],
   "source": []
  },
  {
   "cell_type": "markdown",
   "metadata": {
    "id": "P9Aqv322t_p4"
   },
   "source": [
    "Um usuário deseja gerar um conjunto de números de 0 até o valor que ele fornece como entrada. Ele quer ver a sequência de números até esse ponto.\n",
    "\n",
    "Exercício 1:\n",
    "Peça ao usuário para digitar um número inteiro. Use o método range() para gerar os números de 0 até esse número e, em seguida, crie um conjunto (set()) a partir desses números. Finalmente, exiba o conjunto resultante."
   ]
  },
  {
   "cell_type": "code",
   "execution_count": 18,
   "metadata": {
    "id": "zciq4waE_w95"
   },
   "outputs": [
    {
     "name": "stdout",
     "output_type": "stream",
     "text": [
      "Digite um numero inteiro: 5\n",
      "[1, 2, 3, 4, 5]\n"
     ]
    }
   ],
   "source": [
    "set_list = []\n",
    "num = int(input('Digite um numero inteiro: '))\n",
    "\n",
    "for i in range(0, num):\n",
    "    set_list += {i + 1}\n",
    "    \n",
    "print(set_list)\n",
    "\n"
   ]
  },
  {
   "cell_type": "markdown",
   "metadata": {
    "id": "2u4CTx1xuNm4"
   },
   "source": [
    "Um professor quer criar um conjunto de notas dos alunos em uma faixa específica. Ele deseja saber as notas únicas nessa faixa.\n",
    "\n",
    "Exercício 2:\n",
    "Peça ao usuário para digitar um intervalo de notas, por exemplo, de 0 a 100. Utilize o método range() para gerar uma lista de notas nesse intervalo. Converta essa lista em um conjunto (set()) e exiba-o."
   ]
  },
  {
   "cell_type": "code",
   "execution_count": 37,
   "metadata": {
    "id": "JKUTpK54_xh4"
   },
   "outputs": [
    {
     "name": "stdout",
     "output_type": "stream",
     "text": [
      "Digite um intervalo de entre dois numeros separados por espaço: 10,50\n",
      "{11, 12, 13, 14, 15, 16, 17, 18, 19, 20, 21, 22, 23, 24, 25, 26, 27, 28, 29, 30, 31, 32, 33, 34, 35, 36, 37, 38, 39, 40, 41, 42, 43, 44, 45, 46, 47, 48, 49, 50}\n"
     ]
    }
   ],
   "source": [
    "num = input('Digite um intervalo de entre dois numeros separados por espaço: ').split(',')\n",
    "\n",
    "num1 = int(num[0])\n",
    "num2 = int(num[1])\n",
    "\n",
    "lista  = []\n",
    "\n",
    "for i in range(num1, num2):\n",
    "    lista += {i + 1}\n",
    "    \n",
    "lista = set(lista)\n",
    "print(lista)\n",
    "\n"
   ]
  },
  {
   "cell_type": "markdown",
   "metadata": {
    "id": "DDIDT61luYpt"
   },
   "source": [
    "Você está organizando um evento onde precisa distribuir números de identificação únicos para os participantes. Cada número deve ser par e estar dentro de um certo intervalo.\n",
    "\n",
    "Exercício 3:\n",
    "Defina um intervalo de números, como de 10 a 50. Utilize o método range() para gerar uma lista de números pares dentro desse intervalo. Converta essa lista em um conjunto (set()) e exiba-o."
   ]
  },
  {
   "cell_type": "markdown",
   "metadata": {
    "id": "F_UWT9ID_zmZ"
   },
   "source": []
  },
  {
   "cell_type": "code",
   "execution_count": 52,
   "metadata": {
    "id": "H9JGpLnU_y3x"
   },
   "outputs": [
    {
     "name": "stdout",
     "output_type": "stream",
     "text": [
      "{8, 10, 12, 14, 16, 18, 20, 22, 24, 26, 28}\n"
     ]
    }
   ],
   "source": [
    "lista = []\n",
    "\n",
    "for i in range(7, 30):\n",
    "    if i % 2 == 0:\n",
    "        lista += {i}\n",
    "    \n",
    "lista = set(lista)\n",
    "print(lista)"
   ]
  },
  {
   "cell_type": "markdown",
   "metadata": {
    "id": "BMmP5QubujDM"
   },
   "source": [
    "Um usuário deseja saber todos os divisores de um número inteiro que ele fornece. Ele está interessado apenas nos divisores até a raiz quadrada desse número.\n",
    "\n",
    "Exercício 4:\n",
    "Peça ao usuário para digitar um número inteiro. Utilize o método range() para iterar sobre os números de 1 até a raiz quadrada desse número. Se o número for divisível por um valor no intervalo, adicione-o a um conjunto (set()) de divisores. Exiba o conjunto resultante."
   ]
  },
  {
   "cell_type": "code",
   "execution_count": 77,
   "metadata": {},
   "outputs": [
    {
     "name": "stdout",
     "output_type": "stream",
     "text": [
      "Digite um numero inteiro: 102\n",
      "[1, 2, 3, 4, 5, 6, 7, 8, 9]\n",
      "[1, 2, 3, 6]\n"
     ]
    }
   ],
   "source": [
    "num = int(input('Digite um numero inteiro: '))\n",
    "\n",
    "lista = []\n",
    "raiz = round(num ** (1/2))\n",
    "\n",
    "for i in range(1, raiz):\n",
    "    lista += [i]\n",
    "\n",
    "divisores = []\n",
    "\n",
    "for i in lista:\n",
    "    if num % i == 0:\n",
    "        divisores += [i]\n",
    "        \n",
    "print(lista)\n",
    "print(divisores)\n",
    "    "
   ]
  },
  {
   "cell_type": "markdown",
   "metadata": {
    "id": "J7c5jaSfvRLA"
   },
   "source": [
    "# Exercício 5:  Desenvolva um programa que gere um conjunto de letras únicas em uma string dada, utilizando o método set() e um loop sobre a string utilizando o range()."
   ]
  },
  {
   "cell_type": "code",
   "execution_count": 96,
   "metadata": {
    "id": "cq2F4fDj_1IA"
   },
   "outputs": [
    {
     "name": "stdout",
     "output_type": "stream",
     "text": [
      "Digite uma frase: Por fim vamos falar da ordem das operações no Python\n",
      "{'õ', 'f', 's', 'e', 'y', 'p', 'r', 'P', 'ç', 'm', 'n', 'v', 'h', 'o', 'd', 'i', 'a', 't', 'l'}\n"
     ]
    }
   ],
   "source": [
    "palavra = input('Digite uma frase: ').replace(' ', '')\n",
    "tam = len(palavra)\n",
    "lista = []\n",
    "\n",
    "for i in range(tam):\n",
    "    lista += palavra[i]\n",
    "    \n",
    "lista = set(lista)\n",
    "print(lista)"
   ]
  },
  {
   "cell_type": "markdown",
   "metadata": {
    "id": "BaO0w4pevrjx"
   },
   "source": [
    "Exercício 6:\n",
    "Situação-Problema: Um professor deseja manter um registro dos livros lidos por seus alunos durante o ano. Ele quer um conjunto de títulos únicos dos livros."
   ]
  },
  {
   "cell_type": "code",
   "execution_count": 101,
   "metadata": {
    "id": "gSt7kLbK_21A"
   },
   "outputs": [
    {
     "name": "stdout",
     "output_type": "stream",
     "text": [
      "{'Moby Dick', 'Lolita', 'Ulysses', 'Guerra e Paz', 'Em Busca do Tempo Perdido'}\n"
     ]
    }
   ],
   "source": [
    "livros = {'Ulysses','Moby Dick','Guerra e Paz','Lolita','Em Busca do Tempo Perdido','Moby Dick','Lolita','Ulysses'}\n",
    "\n",
    "livros = set(livros)\n",
    "print(livros)\n",
    "\n"
   ]
  },
  {
   "cell_type": "markdown",
   "metadata": {
    "id": "esuu-ylmwHkc"
   },
   "source": [
    "Exercício 7:\n",
    "Situação-Problema: Um programador está verificando erros de digitação em um trecho de código. Ela quer encontrar todas as teclas únicas pressionadas durante a digitação."
   ]
  },
  {
   "cell_type": "code",
   "execution_count": 104,
   "metadata": {
    "id": "enrccPgP_53w"
   },
   "outputs": [
    {
     "name": "stdout",
     "output_type": "stream",
     "text": [
      "Digite o trecho de código: lista = []  for i in range(7, 30):     if i % 2 == 0:         lista += {i}      lista = set(lista) print(lista)\n",
      "{'g', ',', 'f', '0', 's', 'e', '=', '{', 'p', 'r', '+', ')', '%', '3', '2', ':', 'n', '[', '}', 'o', '(', ' ', 'i', '7', 'a', ']', 't', 'l'}\n"
     ]
    }
   ],
   "source": [
    "trecho = input('Digite o trecho de código: ')\n",
    "\n",
    "teclas_unicas = []\n",
    "\n",
    "for i in range(len(trecho)):\n",
    "    teclas_unicas += trecho[i]\n",
    "\n",
    "teclas_unicas = set(teclas_unicas)\n",
    "print(teclas_unicas)"
   ]
  },
  {
   "cell_type": "markdown",
   "metadata": {
    "id": "3_XLTZG4wQXN"
   },
   "source": [
    "Exercício 8:\n",
    "Situação-Problema: Um jogador de palavras cruzadas deseja saber todas as letras únicas que ele já utilizou em suas palavras."
   ]
  },
  {
   "cell_type": "code",
   "execution_count": 109,
   "metadata": {
    "id": "nndjeLXo_5YI"
   },
   "outputs": [
    {
     "name": "stdout",
     "output_type": "stream",
     "text": [
      "Digite uma palavra: otorrinolaringologista\n",
      "{'g', 'r', 'i', 's', 'n', 'a', 't', 'l', 'o'}\n"
     ]
    }
   ],
   "source": [
    "palavra = input('Digite uma palavra: ')\n",
    "\n",
    "letras_unicas = []\n",
    "for i in range(len(palavra)):\n",
    "    letras_unicas += palavra[i]\n",
    "    \n",
    "letras_unicas = set(letras_unicas) \n",
    "print(letras_unicas)"
   ]
  },
  {
   "cell_type": "markdown",
   "metadata": {
    "id": "7kzPhQEmwaUO"
   },
   "source": [
    "Exercício 9:\n",
    "Situação-Problema: Um gerente de loja deseja criar um programa de fidelidade. Ele quer manter um registro único dos números de telefone dos clientes que realizam compras."
   ]
  },
  {
   "cell_type": "code",
   "execution_count": 131,
   "metadata": {
    "id": "4DmZP3dm_8aQ"
   },
   "outputs": [
    {
     "name": "stdout",
     "output_type": "stream",
     "text": [
      "Digite o numero de telefone: 6879-7155\n",
      "Digite o numero de telefone: 1234-5678\n",
      "Digite o numero de telefone: 5698-8452\n",
      "Digite o numero de telefone: 3265-6945\n",
      "Digite o numero de telefone: 1234-5678\n",
      "Digite o numero de telefone: \n",
      "{'68797155', '56988452', '32656945', '12345678'}\n"
     ]
    }
   ],
   "source": [
    "lista_telefonica = []\n",
    "\n",
    "contador = 1\n",
    "\n",
    "while contador > 0:\n",
    "    num = input('Digite o numero de telefone: ').replace('-','')\n",
    "    lista_telefonica.append(num)\n",
    "    contador = i\n",
    "    if num == '':\n",
    "        lista_telefonica.remove('')\n",
    "        break\n",
    "\n",
    "lista_telefonica = set(lista_telefonica)\n",
    "print(lista_telefonica)\n",
    "    "
   ]
  },
  {
   "cell_type": "markdown",
   "metadata": {
    "id": "d_RYimcpweye"
   },
   "source": [
    "Exercício 10:\n",
    "Situação-Problema: Você está organizando um torneio esportivo e precisa criar um conjunto de equipes únicas que se inscreveram."
   ]
  },
  {
   "cell_type": "code",
   "execution_count": null,
   "metadata": {
    "id": "g5NIxrFw_83I"
   },
   "outputs": [],
   "source": [
    "equipes = {'os camaradas','a liga','tropa','os vingadores','los hermanos'}"
   ]
  },
  {
   "cell_type": "markdown",
   "metadata": {
    "id": "9A3ObHIhuoJ4"
   },
   "source": []
  }
 ],
 "metadata": {
  "colab": {
   "provenance": []
  },
  "kernelspec": {
   "display_name": "Python 3 (ipykernel)",
   "language": "python",
   "name": "python3"
  },
  "language_info": {
   "codemirror_mode": {
    "name": "ipython",
    "version": 3
   },
   "file_extension": ".py",
   "mimetype": "text/x-python",
   "name": "python",
   "nbconvert_exporter": "python",
   "pygments_lexer": "ipython3",
   "version": "3.11.3"
  }
 },
 "nbformat": 4,
 "nbformat_minor": 1
}
