{
 "cells": [
  {
   "cell_type": "markdown",
   "metadata": {},
   "source": [
    "# Condições no Python -> If\n",
    "\n",
    "## Estrutura:\n",
    "\n",
    "### Uso mais simples:"
   ]
  },
  {
   "cell_type": "raw",
   "metadata": {},
   "source": [
    "if condição:\n",
    "    o que fazer caso a condição seja verdadeira"
   ]
  },
  {
   "cell_type": "markdown",
   "metadata": {},
   "source": [
    "### Exemplo Real (informações 100% hipotéticas e inventadas):\n",
    "\n",
    "Digamos que você trabalha na Amazon (que tem centenas de milhares, se não milhões de produtos) e está analisando o resultado de vendas dos produtos.\n",
    "\n",
    "Você precisa criar um programa que vai analisar o resultado de vendas dos produtos da Amazon em um mês. Para simplificar vamos pensar em um único produto: um Iphone.\n",
    "\n",
    "Meta de Vendas do Iphone = 50.000 unidades<br>\n",
    "Quantidade vendida no Mês = 65.300 unidades\n",
    "\n",
    "O seu programa deve avisar (usaremos o print por enquanto) caso o produto tenha batido a meta do mês. Então devemos fazer:<br>\n",
    "- Caso o produto tenha batido a meta, devemos exibir a mensagem: \"Batemos a meta de vendas de Iphone, vendemos {} unidades\" \n",
    "- Se ele não bateu a meta do mês, o seu programa não deve fazer nada"
   ]
  },
  {
   "cell_type": "code",
   "execution_count": 8,
   "metadata": {},
   "outputs": [
    {
     "name": "stdout",
     "output_type": "stream",
     "text": [
      "Digite o valor das vendas: 65.000\n",
      "A meta foi batida, vendemos 65.0 mil unidades de Iphones.\n"
     ]
    }
   ],
   "source": [
    "meta = 50.000\n",
    "vendidos = float(input(\"Digite o valor das vendas: \"))\n",
    "\n",
    "if vendidos >= meta:\n",
    "    print(\"A meta foi batida, vendemos {} mil unidades de Iphones.\".format(vendidos))\n",
    "else:\n",
    "    pass"
   ]
  },
  {
   "cell_type": "markdown",
   "metadata": {},
   "source": [
    "### Tratando a condição falsa:\n",
    "Quando usamos o if, nem sempre queremos apenas analisar o caso verdadeiro, em boa parte das vezes queremos fazer alguma coisa caso a condição seja verdadeira e fazer outra coisa caso a condição seja falsa.\n",
    "\n",
    "Nesse caso usaremos:"
   ]
  },
  {
   "cell_type": "raw",
   "metadata": {},
   "source": [
    "if condição:\n",
    "    o que eu quero fazer caso a condição seja verdadeira\n",
    "else:\n",
    "    o que eu quero fazer caso a condição seja falsa"
   ]
  },
  {
   "cell_type": "markdown",
   "metadata": {},
   "source": [
    "Voltando ao nosso Exemplo Real da Amazon e do Iphone, agora nossa programa deve avisar nos 2 casos:\n",
    "- Caso o produto tenha batido a meta, devemos exibir a mensagem: \"Batemos a meta de vendas de Iphone, vendemos {} unidades\" \n",
    "- Se ele não bateu a meta do mês, devemos exibir a mensagem: \"Infelizmente não batemos a meta, vendemos {} unidades. A meta era de {} unidades\""
   ]
  },
  {
   "cell_type": "code",
   "execution_count": 14,
   "metadata": {},
   "outputs": [
    {
     "name": "stdout",
     "output_type": "stream",
     "text": [
      "Batemos a meta de vendas de Iphone, vendemos 65.3 mil unidades.\n"
     ]
    }
   ],
   "source": [
    "meta_iphone = 50.000\n",
    "vendidos = 65.300\n",
    "\n",
    "if vendidos >= meta_iphone:\n",
    "    print(\"Batemos a meta de vendas de Iphone, vendemos {} mil unidades.\".format(vendidos))\n",
    "else:\n",
    "    print(\"Infelizmente não batemos a meta, vendemos {} mil unidades. A meta era de {} mil unidades.\".format(vendidos, meta_iphone))"
   ]
  }
 ],
 "metadata": {
  "kernelspec": {
   "display_name": "Python 3 (ipykernel)",
   "language": "python",
   "name": "python3"
  },
  "language_info": {
   "codemirror_mode": {
    "name": "ipython",
    "version": 3
   },
   "file_extension": ".py",
   "mimetype": "text/x-python",
   "name": "python",
   "nbconvert_exporter": "python",
   "pygments_lexer": "ipython3",
   "version": "3.11.3"
  }
 },
 "nbformat": 4,
 "nbformat_minor": 4
}
