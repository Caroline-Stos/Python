{
 "cells": [
  {
   "cell_type": "markdown",
   "id": "d6fa79c4",
   "metadata": {},
   "source": [
    "# Exercícios de Introdução às Funções em Python"
   ]
  },
  {
   "cell_type": "markdown",
   "id": "6ea92414",
   "metadata": {},
   "source": [
    "######  . . . . .  . . . . . . . . . . . . . . . . . . . . . ..  . . . ..  .. .  ..  . . . . ..  . . . . . .. .  . . . . . . . . . ..  . .. .  . . .. . ..  .. .  . . . . . . . . .. . .  .. . . . . . .. . . . . . . . . . . . . . . . .. . . . . . .. \n",
    ".\n",
    "..\n",
    ".\n",
    "..\n",
    ".\n",
    "..\n",
    ".\n",
    "..\n"
   ]
  },
  {
   "cell_type": "markdown",
   "id": "66043de7",
   "metadata": {},
   "source": [
    "## Introdução ao uso de funções em Python. Funções são blocos de código que nos permitem organizar e reutilizar tarefas em nossos programas. Elas são uma parte fundamental da programação e nos ajudam a escrever código mais limpo, eficiente e modular.\n",
    "\n",
    "## Para praticar o que aprendemos, temos uma série de exercícios que envolvem o uso de funções básicas para realizar cálculos simples. Vocês deverão criar funções que resolvam os problemas propostos. Lembre-se de usar nomes significativos para suas funções e variáveis, para que o código seja claro e compreensível."
   ]
  },
  {
   "cell_type": "markdown",
   "id": "a7f6647f",
   "metadata": {},
   "source": [
    "## Exercício 1: Calcular a área de um retângulo\n",
    "### Situação Problema: Você está construindo um jardim retangular em sua casa. A largura do jardim é 5 metros e o comprimento é 8 metros. Qual é a área total do jardim?"
   ]
  },
  {
   "cell_type": "code",
   "execution_count": 3,
   "id": "931944a6",
   "metadata": {},
   "outputs": [
    {
     "name": "stdout",
     "output_type": "stream",
     "text": [
      "Digite a altura: 12\n",
      "Digite a largura: 32\n",
      "Área: 384\n"
     ]
    }
   ],
   "source": [
    "def calculo_area(num1, num2):\n",
    "    area = float(num1) * float(num2)\n",
    "    return print(f'Área: {round(area)} metros.')\n",
    "                 \n",
    "altura = float(input('Digite a altura: '))\n",
    "largura = float(input('Digite a largura: '))   \n",
    "                 \n",
    "calculo_area(altura, largura)"
   ]
  },
  {
   "cell_type": "markdown",
   "id": "f9684318",
   "metadata": {},
   "source": [
    "## Exercício 2: Calcular o quadrado de um número\n",
    "### Situação Problema: Você está medindo o lado de um quadrado. O lado mede 6 metros. Qual é a área desse quadrado?"
   ]
  },
  {
   "cell_type": "code",
   "execution_count": 13,
   "id": "12546b18",
   "metadata": {},
   "outputs": [
    {
     "name": "stdout",
     "output_type": "stream",
     "text": [
      "Digite o lado do quadrado: 6\n",
      "Área: 36.0\n"
     ]
    }
   ],
   "source": [
    "def calculo_area_quadrado(num1):\n",
    "    area = num1 * num1\n",
    "    return print(f'Área: {area} metros.')\n",
    "\n",
    "lado = float(input('Digite o lado do quadrado: '))\n",
    "area = calculo_area_quadrado(lado)\n",
    "\n"
   ]
  },
  {
   "cell_type": "markdown",
   "id": "3f96f770",
   "metadata": {},
   "source": [
    "## Exercício 3: Converter Celsius para Fahrenheit\n",
    "### Situação Problema: Você está em um país onde a temperatura é medida em Fahrenheit. A temperatura atual é 25 graus Celsius. Qual é a temperatura equivalente em Fahrenheit?"
   ]
  },
  {
   "cell_type": "code",
   "execution_count": 22,
   "id": "c1923918",
   "metadata": {},
   "outputs": [
    {
     "name": "stdout",
     "output_type": "stream",
     "text": [
      "Digite a temperatura em Celsus: 36\n",
      "A temperatura em Fahrenheit é: 97 Fº\n"
     ]
    }
   ],
   "source": [
    "def conversor_celsus_fahrenheit(num1):\n",
    "    fah = num1 * 1.8 + 32\n",
    "    return print(f'A temperatura em Fahrenheit é: {round(fah)} Fº')\n",
    "\n",
    "celsus = float(input('Digite a temperatura em Celsus: '))\n",
    "conversor_celsus_fahrenheit(celsus)"
   ]
  },
  {
   "cell_type": "markdown",
   "id": "535c92f1",
   "metadata": {},
   "source": [
    "## Exercício 4: Calcular a média de três números\n",
    "### Situação Problema: Você fez três exames e obteve as seguintes notas: 7.5, 8.0 e 6.5. Qual é a sua média nessas três provas?"
   ]
  },
  {
   "cell_type": "code",
   "execution_count": 51,
   "id": "c2c4fae5",
   "metadata": {},
   "outputs": [
    {
     "name": "stdout",
     "output_type": "stream",
     "text": [
      "Digite a primeira nota: 10\n",
      "Digite a segunda nota: 8\n",
      "Digite a terceira nota: 7.5\n",
      "A média das notas é: 8\n"
     ]
    }
   ],
   "source": [
    "def media(nota1, nota2, nota3):\n",
    "    media = (nota1 + nota2 + nota3) / 3\n",
    "    return print(f'A média das notas é: {round(media)}')\n",
    "\n",
    "nota1 = float(input('Digite a primeira nota: '))\n",
    "nota2 = float(input('Digite a segunda nota: '))\n",
    "nota3 = float(input('Digite a terceira nota: '))\n",
    "\n",
    "media(nota1, nota2, nota3)"
   ]
  },
  {
   "cell_type": "markdown",
   "id": "dc19120f",
   "metadata": {},
   "source": [
    "## Exercício 5: Calcular a hipotenusa de um triângulo retângulo\n",
    "### Situação Problema: Você está construindo uma rampa para um skatepark. As duas partes da rampa formam um ângulo reto, e as medidas dos catetos são 4 metros e 5 metros. Qual é o comprimento da rampa (hipotenusa)?"
   ]
  },
  {
   "cell_type": "code",
   "execution_count": 74,
   "id": "e634d60c",
   "metadata": {},
   "outputs": [
    {
     "name": "stdout",
     "output_type": "stream",
     "text": [
      "A hipotenusa do triangulo de cateto 5 e 4 é: 41\n"
     ]
    }
   ],
   "source": [
    "def hipotenusa(num1, num2):\n",
    "    hipotenusa = (num1 ** 2) + (num2 ** 2)\n",
    "    return print(f'A hipotenusa do triangulo de cateto {num1} e {num2} é: {hipotenusa}')\n",
    "\n",
    "hipotenusa(5,4)\n"
   ]
  },
  {
   "cell_type": "markdown",
   "id": "63fa58f9",
   "metadata": {},
   "source": [
    "## Exercício 6: Calcular o perímetro de um quadrado\n",
    "### Situação Problema: Você está construindo um tapete quadrado para a sala de estar. Cada lado do tapete mede 3 metros. Qual é o perímetro total do tapete?"
   ]
  },
  {
   "cell_type": "code",
   "execution_count": 78,
   "id": "a2cc0651",
   "metadata": {},
   "outputs": [
    {
     "name": "stdout",
     "output_type": "stream",
     "text": [
      "O perimetro do quadrado é: 16 metros.\n"
     ]
    }
   ],
   "source": [
    "def perimetro_quadrado(num):\n",
    "    perimetro = num * 4\n",
    "    return print(f'O perimetro do quadrado é: {perimetro} metros.')\n",
    "\n",
    "perimetro_quadrado(4)"
   ]
  },
  {
   "cell_type": "markdown",
   "id": "0bc6d476",
   "metadata": {},
   "source": [
    "## Exercício 7: Calcular a média ponderada de três notas\n",
    "### Situação Problema: Você está estudando para três disciplinas diferentes. Suas notas são: 7.0 em Matemática, 8.5 em Ciências e 9.5 em História. Se a Matemática tem peso 2, Ciências tem peso 3 e História tem peso 5, qual é a sua média ponderada?\n",
    "\n"
   ]
  },
  {
   "cell_type": "code",
   "execution_count": 84,
   "id": "15b67f4a",
   "metadata": {},
   "outputs": [
    {
     "name": "stdout",
     "output_type": "stream",
     "text": [
      "A média ponderada das três notas é: 8.7\n"
     ]
    }
   ],
   "source": [
    "def media_ponderada(nota1, nota2, nota3):\n",
    "    media = ((nota1 * 2) + (nota2 * 3) + (nota3 * 5)) / 10\n",
    "    return print(f'A média ponderada das três notas é: {media}')\n",
    "\n",
    "media_ponderada(7, 8.5, 9.5)"
   ]
  },
  {
   "cell_type": "markdown",
   "id": "a411f83c",
   "metadata": {},
   "source": [
    "## Exercício 8: Calcular a área de um círculo\n",
    "### Situação Problema: Você está pintando um alvo circular em uma parede. O raio do círculo é 2 metros. Qual é a área total que você precisa pintar?"
   ]
  },
  {
   "cell_type": "code",
   "execution_count": 92,
   "id": "e7a46d2d",
   "metadata": {},
   "outputs": [
    {
     "name": "stdout",
     "output_type": "stream",
     "text": [
      "A area do circulo é: 12.56\n"
     ]
    }
   ],
   "source": [
    "def area_circulo(raio):\n",
    "    area = 3.14 * (raio ** 2)\n",
    "    return print(f'A area do circulo é: {area}')\n",
    "\n",
    "area_circulo(2)"
   ]
  },
  {
   "cell_type": "markdown",
   "id": "1d16b12a",
   "metadata": {},
   "source": [
    "## Exercício 9: Converter quilômetros para milhas\n",
    "### Situação Problema: Você está planejando uma viagem de carro. O percurso tem 200 quilômetros de extensão. Qual é a distância equivalente em milhas?\n",
    "\n",
    "\n",
    "\n",
    "\n"
   ]
  },
  {
   "cell_type": "code",
   "execution_count": 93,
   "id": "1ca02ada",
   "metadata": {},
   "outputs": [
    {
     "name": "stdout",
     "output_type": "stream",
     "text": [
      "200 metros equivalem à 321.8 milhas.\n"
     ]
    }
   ],
   "source": [
    "def metros_em_milhas(num1):\n",
    "    milhas = 1.609 * num1\n",
    "    return print(f'{num1} metros equivalem à {milhas} milhas.')\n",
    "\n",
    "metros_em_milhas(200)"
   ]
  },
  {
   "cell_type": "markdown",
   "id": "b19544a3",
   "metadata": {},
   "source": [
    "## Exercício 10: Calcular a média aritmética de quatro números\n",
    "### Situação Problema: Você está acompanhando as notas de um aluno em quatro provas: 6.5, 7.0, 8.5 e 9.0. Qual é a média aritmética dessas quatro notas?\n",
    "\n",
    "\n"
   ]
  },
  {
   "cell_type": "code",
   "execution_count": 1,
   "id": "10c84074",
   "metadata": {},
   "outputs": [
    {
     "name": "stdout",
     "output_type": "stream",
     "text": [
      "A media aritmetica das quatro notas é: 7.75\n"
     ]
    }
   ],
   "source": [
    "def media_aritmetica(nota1, nota2, nota3, nota4):\n",
    "    media = (nota1 + nota2 + nota3 + nota4) / 4\n",
    "    return print(f'A media aritmetica das quatro notas é: {media}')\n",
    "\n",
    "media_aritmetica(6.5, 7, 8.5, 9)"
   ]
  },
  {
   "cell_type": "code",
   "execution_count": 5,
   "id": "9cc01a82",
   "metadata": {},
   "outputs": [
    {
     "name": "stdout",
     "output_type": "stream",
     "text": [
      "['abc12', 'abc34', 'abc37']\n",
      "['ABC12', 'ABC34', 'ABC37']\n"
     ]
    }
   ],
   "source": [
    "def padronizar_codigos(lista_codigos, padrao = 'm'):\n",
    "    for i, item in enumerate(lista_codigos):\n",
    "        item = item.replace('  ', ' ')\n",
    "        item = item.strip()\n",
    "        if padrao == 'm':\n",
    "            item = item.casefold()\n",
    "        elif padrao == 'M':\n",
    "            item = item.upper()\n",
    "        lista_codigos[i] = item\n",
    "    return lista_codigos\n",
    "\n",
    "cod_produtos = ['ABC12','abc34','AbC37']\n",
    "print(padronizar_codigos(cod_produtos))\n",
    "\n",
    "cod_produtos = ['ABC12','abc34','AbC37']\n",
    "print(padronizar_codigos(cod_produtos, padrao = 'M'))"
   ]
  },
  {
   "cell_type": "code",
   "execution_count": 28,
   "id": "e9537cd4",
   "metadata": {},
   "outputs": [
    {
     "name": "stdout",
     "output_type": "stream",
     "text": [
      "0\n",
      "1\n",
      "2\n",
      "3\n",
      "4\n"
     ]
    }
   ],
   "source": [
    "def fazer_for():\n",
    "    for i in range(5):\n",
    "        print(i)\n",
    "\n",
    "fazer_for()\n"
   ]
  },
  {
   "cell_type": "code",
   "execution_count": 37,
   "id": "40cecce3",
   "metadata": {},
   "outputs": [
    {
     "name": "stdout",
     "output_type": "stream",
     "text": [
      "(12, 8, 20, 5.0)\n"
     ]
    }
   ],
   "source": [
    "def operacoes_basicas(num1, num2):\n",
    "    soma = num1 + num2\n",
    "    diferenca = num1 - num2\n",
    "    mult = num1 * num2\n",
    "    divisao = num1 / num2\n",
    "    return(soma, diferenca, mult, divisao)\n",
    "\n",
    "print(operacoes_basicas(10,2))"
   ]
  },
  {
   "cell_type": "code",
   "execution_count": 39,
   "id": "060d9d9a",
   "metadata": {},
   "outputs": [
    {
     "name": "stdout",
     "output_type": "stream",
     "text": [
      "0.5\n",
      "['joao', 'Julia', 'Ana']\n"
     ]
    }
   ],
   "source": [
    "meta = 10000\n",
    "vendas = {\n",
    "    'joao': 15000,\n",
    "    'Julia': 27000,\n",
    "    'Marcus': 9900,\n",
    "    'Maria': 3750,\n",
    "    'Ana': 10300,\n",
    "    'Alon': 7870,\n",
    "}\n",
    "\n",
    "def calculo_meta(meta,vendas):\n",
    "    bateram_meta = []\n",
    "    for vendedor in vendas:\n",
    "        if vendas[vendedor] >= meta:\n",
    "            bateram_meta.append(vendedor)\n",
    "    perc_baterammeta = len(bateram_meta) / len(vendas)\n",
    "    return perc_baterammeta, bateram_meta\n",
    "\n",
    "p_meta, vendedores_acima_meta = calculo_meta(meta,vendas)\n",
    "print(p_meta)\n",
    "print(vendedores_acima_meta)"
   ]
  },
  {
   "cell_type": "code",
   "execution_count": null,
   "id": "39a287c8",
   "metadata": {},
   "outputs": [],
   "source": []
  }
 ],
 "metadata": {
  "kernelspec": {
   "display_name": "Python 3 (ipykernel)",
   "language": "python",
   "name": "python3"
  },
  "language_info": {
   "codemirror_mode": {
    "name": "ipython",
    "version": 3
   },
   "file_extension": ".py",
   "mimetype": "text/x-python",
   "name": "python",
   "nbconvert_exporter": "python",
   "pygments_lexer": "ipython3",
   "version": "3.11.3"
  }
 },
 "nbformat": 4,
 "nbformat_minor": 5
}
