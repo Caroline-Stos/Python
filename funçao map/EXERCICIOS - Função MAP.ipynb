{
 "cells": [
  {
   "cell_type": "markdown",
   "id": "38f9fcc2",
   "metadata": {},
   "source": [
    "### Exercícios de função MAP\n",
    "####   ***** Tente fazer sozinho antes de consultar  *****"
   ]
  },
  {
   "cell_type": "markdown",
   "id": "6266b0e9",
   "metadata": {},
   "source": [
    "#### Exercício 1:\n",
    "Escreva um programa que receba uma lista de números como entrada e use a função map para elevar todos os números ao quadrado. Em seguida, imprima a lista resultante."
   ]
  },
  {
   "cell_type": "code",
   "execution_count": 33,
   "id": "16142264",
   "metadata": {},
   "outputs": [
    {
     "name": "stdout",
     "output_type": "stream",
     "text": [
      "[100, 144, 196, 256, 324, 400]\n"
     ]
    }
   ],
   "source": [
    "numeros = [10, 12, 14, 16, 18, 20]\n",
    "\n",
    "def num_quadrado(num):\n",
    "    return num ** 2\n",
    "\n",
    "num_qdr = list(map(num_quadrado, numeros))\n",
    "print(num_qdr)"
   ]
  },
  {
   "cell_type": "markdown",
   "id": "78c82313",
   "metadata": {},
   "source": [
    "#### Exercício 2:\n",
    "Exercício 2:\n",
    "Crie uma função dobro que receba uma lista de números como entrada e use a função map para dobrar cada número na lista. Em seguida, imprima a lista resultante.\n"
   ]
  },
  {
   "cell_type": "code",
   "execution_count": 2,
   "id": "233c71f5",
   "metadata": {},
   "outputs": [
    {
     "name": "stdout",
     "output_type": "stream",
     "text": [
      "[20, 24, 28, 32, 36, 40]\n"
     ]
    }
   ],
   "source": [
    "numeros = [10, 12, 14, 16, 18, 20]\n",
    "\n",
    "def dobro(num):\n",
    "    return num * 2\n",
    "\n",
    "num_dobro = list(map(dobro, numeros))\n",
    "print(num_dobro)"
   ]
  },
  {
   "cell_type": "markdown",
   "id": "f9a92dda",
   "metadata": {},
   "source": [
    "#### Exercício 3:\n",
    "\n",
    "Escreva um programa que receba uma lista de nomes como entrada e use a função map para adicionar a string \"Sr. \" antes de cada nome. Em seguida, imprima a lista resultante."
   ]
  },
  {
   "cell_type": "code",
   "execution_count": 3,
   "id": "55f2432d",
   "metadata": {},
   "outputs": [
    {
     "name": "stdout",
     "output_type": "stream",
     "text": [
      "['Sr.Caroline', 'Sr.Fernando', 'Sr.Jamily', 'Sr.Camila', 'Sr.Kendall', 'Sr.Cristina', 'Sr.Savanna']\n"
     ]
    }
   ],
   "source": [
    "nomes = ['Caroline','Fernando','Jamily','Camila','Kendall','Cristina','Savanna']\n",
    "\n",
    "def pronome_sr(nome):\n",
    "    return 'Sr.' + nome\n",
    "\n",
    "nomes = list(map(pronome_sr, nomes))\n",
    "print(nomes)\n"
   ]
  },
  {
   "cell_type": "markdown",
   "id": "e2205602",
   "metadata": {},
   "source": [
    "#### Exercício 4:\n",
    "Crie uma função calcular_area que receba uma lista de raios de círculos como entrada e use a função map para calcular a área de cada círculo. A área de um círculo é dada por π * raio^2. Em seguida, imprima a lista de áreas.\n",
    "\n",
    "\n"
   ]
  },
  {
   "cell_type": "code",
   "execution_count": 8,
   "id": "42165b19",
   "metadata": {},
   "outputs": [
    {
     "name": "stdout",
     "output_type": "stream",
     "text": [
      "[452, 314, 254, 13, 6362, 28]\n"
     ]
    }
   ],
   "source": [
    "import math\n",
    "\n",
    "raios = []\n",
    "\n",
    "while True:\n",
    "    raio = input('Digite o raio do circulo.')\n",
    "    if raio != '':\n",
    "        raio = int(raio)\n",
    "        raios.append(raio)\n",
    "    else:\n",
    "        break\n",
    "\n",
    "def calculo_raio(raio):\n",
    "    raio = (raio ** 2) * math.pi\n",
    "    raio = round(raio)\n",
    "    return raio\n",
    "\n",
    "raios = list(map(calculo_raio, raios))\n",
    "print(raios)\n",
    "    "
   ]
  },
  {
   "cell_type": "markdown",
   "id": "a6330d4e",
   "metadata": {},
   "source": [
    "#### Exercício 5:\n",
    "Escreva um programa que receba uma lista de frases como entrada e use a função map para contar o número de palavras em cada frase. Em seguida, imprima a lista de contagens de palavras."
   ]
  },
  {
   "cell_type": "code",
   "execution_count": 38,
   "id": "83b02275",
   "metadata": {},
   "outputs": [
    {
     "name": "stdout",
     "output_type": "stream",
     "text": [
      "[11, 10, 9]\n"
     ]
    }
   ],
   "source": [
    "frases = []\n",
    "\n",
    "while True:\n",
    "    frase = input('Insira uma frase.')\n",
    "    if frase != '':\n",
    "        frase = frase.strip()\n",
    "        frase = frase.replace(',','')\n",
    "        frase = frase.replace('.','')\n",
    "        frase = frase.split(' ')\n",
    "        frases.append(frase)\n",
    "    else:\n",
    "        break\n",
    "\n",
    "def contar_frase(frase):\n",
    "    contador = len(frase)\n",
    "    return contador\n",
    "\n",
    "frases = list(map(contar_frase, frases))\n",
    "print(frases)"
   ]
  }
 ],
 "metadata": {
  "kernelspec": {
   "display_name": "Python 3 (ipykernel)",
   "language": "python",
   "name": "python3"
  },
  "language_info": {
   "codemirror_mode": {
    "name": "ipython",
    "version": 3
   },
   "file_extension": ".py",
   "mimetype": "text/x-python",
   "name": "python",
   "nbconvert_exporter": "python",
   "pygments_lexer": "ipython3",
   "version": "3.11.4"
  }
 },
 "nbformat": 4,
 "nbformat_minor": 5
}
