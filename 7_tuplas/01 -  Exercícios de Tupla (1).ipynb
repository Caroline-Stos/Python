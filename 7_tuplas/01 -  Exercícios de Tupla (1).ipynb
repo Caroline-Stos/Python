{
 "cells": [
  {
   "cell_type": "markdown",
   "metadata": {},
   "source": [
    "# Exercícios\n",
    "\n",
    "São exercícios bem parecidos com os que fizemos com listas. Mas na tupla, podemos não só trabalhar com índices, mas fazer o \"unpacking\" das tuplas, o que pode facilitar nossos códigos.\n",
    "\n",
    "## 1. Análise de Vendas\n",
    "\n",
    "Nesse exercício vamos fazer uma \"análise simples\" de atingimento de Meta.\n",
    "\n",
    "Temos uma lista com os vendedores e os valores de vendas e queremos identificar (printar) quais os vendedores que bateram a meta e qual foi o valor que eles venderam."
   ]
  },
  {
   "cell_type": "code",
   "execution_count": 1,
   "metadata": {},
   "outputs": [
    {
     "name": "stdout",
     "output_type": "stream",
     "text": [
      "Vendedor: João, vendeu: 15000\n",
      "Vendedor: Julia, vendeu: 27000\n",
      "Vendedor: Ana, vendeu: 10300\n"
     ]
    }
   ],
   "source": [
    "meta = 10000\n",
    "vendas = [\n",
    "    ('João', 15000),\n",
    "    ('Julia', 27000),\n",
    "    ('Marcus', 9900),\n",
    "    ('Maria', 3750),\n",
    "    ('Ana', 10300),\n",
    "    ('Alon', 7870),\n",
    "]\n",
    "\n",
    "for venda in vendas:\n",
    "    nome = venda[0]\n",
    "    valor = venda[1]\n",
    "    if valor >= meta:\n",
    "        print(f'Vendedor: {nome}, vendeu: {valor}')"
   ]
  },
  {
   "cell_type": "markdown",
   "metadata": {},
   "source": [
    "## 2. Comparação com Ano Anterior\n",
    "\n",
    "Digamos que você está analisando as vendas de produtos de um ecommerce e quer identificar quais produtos tiveram no ano de 2020 mais vendas do que no ano de 2019, para reportar isso para a diretoria.\n",
    "\n",
    "Sua resposta pode ser um print de cada produto, qual foi a venda de 2019, a venda de 2020 e o % de crescimento de 2020 para 2019.\n",
    "\n",
    "Lembrando, para calcular o % de crescimento de um produto de um ano para o outro, podemos fazer: (vendas_produto2020/vendas_produto2019 - 1)\n",
    "\n",
    "A lógica da tupla é: (produto, vendas2019, vendas2020)"
   ]
  },
  {
   "cell_type": "code",
   "execution_count": 26,
   "metadata": {},
   "outputs": [
    {
     "name": "stdout",
     "output_type": "stream",
     "text": [
      "Produto: ('iphone', 558147, 951642)\n",
      "Percentual de crescimento: 0.71\n",
      "Produto: ('tv', 405252, 787604)\n",
      "Percentual de crescimento: 0.94\n",
      "Produto: ('máquina de café', 718654, 867660)\n",
      "Percentual de crescimento: 0.21\n",
      "Produto: ('notebook dell', 422760, 694913)\n",
      "Percentual de crescimento: 0.64\n",
      "Produto: ('notebook hp', 154753, 539704)\n",
      "Percentual de crescimento: 2.49\n",
      "Produto: ('microsoft surface', 438508, 667179)\n",
      "Percentual de crescimento: 0.52\n",
      "Produto: ('webcam', 237467, 295633)\n",
      "Percentual de crescimento: 0.24\n",
      "Produto: ('caixa de som', 489705, 725316)\n",
      "Percentual de crescimento: 0.48\n",
      "Produto: ('microfone', 328311, 644622)\n",
      "Percentual de crescimento: 0.96\n",
      "Produto: ('câmera canon', 591120, 994303)\n",
      "Percentual de crescimento: 0.68\n"
     ]
    }
   ],
   "source": [
    "vendas_produtos = [('iphone', 558147, 951642), ('galaxy', 712350, 244295), ('ipad', 573823, 26964), ('tv', 405252, 787604), ('máquina de café', 718654, 867660), ('kindle', 531580, 78830), ('geladeira', 973139, 710331), ('adega', 892292, 646016), ('notebook dell', 422760, 694913), ('notebook hp', 154753, 539704), ('notebook asus', 887061, 324831), ('microsoft surface', 438508, 667179), ('webcam', 237467, 295633), ('caixa de som', 489705, 725316), ('microfone', 328311, 644622), ('câmera canon', 591120, 994303)]\n",
    "\n",
    "mais_vendas = []\n",
    "pct_cresc = []\n",
    "i = 0\n",
    "\n",
    "for venda in vendas_produtos:\n",
    "    produto = venda[0]\n",
    "    ano_2019 = venda[1]\n",
    "    ano_2020 = venda[2]\n",
    "    if ano_2019 < ano_2020:\n",
    "        cresc = (ano_2020/ano_2019 - 1)\n",
    "        pct_cresc.append(cresc)\n",
    "        mais_vendas.append(venda)\n",
    "\n",
    "while i < len(mais_vendas):\n",
    "    print(f'Produto: {mais_vendas[i]}')\n",
    "    print('Percentual de crescimento: {:.2f}'.format(pct_cresc[i]))\n",
    "    i += 1\n"
   ]
  }
 ],
 "metadata": {
  "kernelspec": {
   "display_name": "Python 3 (ipykernel)",
   "language": "python",
   "name": "python3"
  },
  "language_info": {
   "codemirror_mode": {
    "name": "ipython",
    "version": 3
   },
   "file_extension": ".py",
   "mimetype": "text/x-python",
   "name": "python",
   "nbconvert_exporter": "python",
   "pygments_lexer": "ipython3",
   "version": "3.11.5"
  }
 },
 "nbformat": 4,
 "nbformat_minor": 4
}
