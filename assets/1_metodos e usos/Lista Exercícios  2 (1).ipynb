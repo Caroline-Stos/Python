{
 "cells": [
  {
   "cell_type": "markdown",
   "id": "a220e4e2",
   "metadata": {},
   "source": [
    "# Exercícios do Módulo 5 - Metódo .format"
   ]
  },
  {
   "cell_type": "markdown",
   "id": "737f7ee0",
   "metadata": {},
   "source": [
    "## Crie programas em python para atender as especificações abaixo."
   ]
  },
  {
   "cell_type": "markdown",
   "id": "33904d99",
   "metadata": {},
   "source": [
    "#####\n",
    "\n",
    "\n",
    "\n",
    "\n",
    "\n",
    "\n"
   ]
  },
  {
   "cell_type": "markdown",
   "id": "6f2fae2c",
   "metadata": {},
   "source": [
    "####"
   ]
  },
  {
   "cell_type": "markdown",
   "id": "b9d7d65b",
   "metadata": {},
   "source": [
    "# 1 - Faça um programa que peça o nome de um país, a capital e o idioma oficial e exiba uma mensagem com essas informações."
   ]
  },
  {
   "cell_type": "code",
   "execution_count": 1,
   "id": "1b62af10",
   "metadata": {},
   "outputs": [
    {
     "name": "stdout",
     "output_type": "stream",
     "text": [
      "Digite um nome de um país: brasil\n",
      "Digite a capital do país: brasilia\n",
      "Digite o idioma oficial do país: portugues\n",
      "brasilia é capital de brasil e tem como idioma oficial o portugues\n"
     ]
    }
   ],
   "source": [
    "pais = input(\"Digite um nome de um país: \")\n",
    "capital = input(\"Digite a capital do país: \")\n",
    "idioma = input(\"Digite o idioma oficial do país: \")\n",
    "\n",
    "print(\"{} é capital de {} e tem como idioma oficial o {}.\". format(capital, pais, idioma))"
   ]
  },
  {
   "cell_type": "markdown",
   "id": "5d617672",
   "metadata": {},
   "source": [
    "# 2 - Escreva um programa que peça dois números e exiba a soma deles."
   ]
  },
  {
   "cell_type": "code",
   "execution_count": 4,
   "id": "2c842c57",
   "metadata": {},
   "outputs": [
    {
     "name": "stdout",
     "output_type": "stream",
     "text": [
      "Digite o primeiro numero: 80\n",
      "Digitem o segundo numero: 23\n",
      "A soma dos numeros é  103\n"
     ]
    }
   ],
   "source": [
    "num1 = int(input(\"Digite o primeiro numero: \"))\n",
    "num2 = int(input(\"Digitem o segundo numero: \"))\n",
    "soma = num1 + num2\n",
    "print(\"A soma dos numeros é \", soma)"
   ]
  },
  {
   "cell_type": "markdown",
   "id": "78770cac",
   "metadata": {},
   "source": [
    "# 3 - Faça um programa que solicite o nome e a idade do usuário e exiba uma mensagem personalizada."
   ]
  },
  {
   "cell_type": "code",
   "execution_count": 7,
   "id": "85cc64da",
   "metadata": {},
   "outputs": [
    {
     "name": "stdout",
     "output_type": "stream",
     "text": [
      "Qual o seu nome? Caroline\n",
      "Qual sua idade? 17\n",
      "Olá Caroline, você é menor de idade.\n"
     ]
    }
   ],
   "source": [
    "nome = input(\"Qual o seu nome? \")\n",
    "idade = int(input(\"Qual sua idade? \"))\n",
    "\n",
    "if idade > 18:\n",
    "    print(\"Olá {}, você é maior de idade.\".format(nome))\n",
    "else:\n",
    "    print(\"Olá {}, você é menor de idade.\".format(nome))\n",
    "\n"
   ]
  },
  {
   "cell_type": "markdown",
   "id": "259a4bbf",
   "metadata": {},
   "source": [
    "# 4 - Crie duas variáveis para armazenar valores numéricos e exiba o resultado da soma."
   ]
  },
  {
   "cell_type": "code",
   "execution_count": 8,
   "id": "2d4313e9",
   "metadata": {},
   "outputs": [
    {
     "name": "stdout",
     "output_type": "stream",
     "text": [
      "A soma dos numeros é 230\n"
     ]
    }
   ],
   "source": [
    "num1 = 50\n",
    "num2 = 180\n",
    "soma = num1 + num2\n",
    "\n",
    "print(\"A soma dos numeros é {}\".format(soma))"
   ]
  },
  {
   "cell_type": "markdown",
   "id": "a4b642fa",
   "metadata": {},
   "source": [
    "# 5 -  Escreva um programa que peça o nome do usuário e exiba uma mensagem de boas-vindas."
   ]
  },
  {
   "cell_type": "code",
   "execution_count": 9,
   "id": "dfee06bd",
   "metadata": {},
   "outputs": [
    {
     "name": "stdout",
     "output_type": "stream",
     "text": [
      "Insira seu nome de usuário: Caroline-Stos\n",
      "Olá Caroline-Stos, bem vindo(a).\n"
     ]
    }
   ],
   "source": [
    "usuario = input(\"Insira seu nome de usuário: \")\n",
    "print(\"Olá {}, bem vindo(a).\".format(usuario))"
   ]
  },
  {
   "cell_type": "markdown",
   "id": "1aa984cf",
   "metadata": {},
   "source": [
    "#  6 - Você foi contratado para desenvolver um programa que auxilie um petshop a gerar mensagens personalizadas para seus clientes. O programa deve solicitar algumas informações do cliente e, em seguida, exibir uma mensagem customizada com base nos dados fornecidos.\n",
    "\n",
    "O programa deve conter as seguintes etapas:\n",
    "\n",
    "Solicitar ao usuário que digite seu nome, o nome do seu pet (animal de estimação) e a espécie do pet (por exemplo, cachorro, gato, pássaro, etc.).\n",
    "\n",
    "Em seguida, peça ao usuário que informe a idade do pet em anos.\n",
    "\n",
    "Solicite também ao usuário que informe se o pet já tomou todas as vacinas obrigatórias (responda com \"Sim\" ou \"Não\").\n",
    "\n",
    "Com base nas informações coletadas, o programa deve gerar uma mensagem personalizada para o cliente. A mensagem deve incluir o nome do cliente, o nome do pet, a espécie do pet, sua idade em anos e se já tomou todas as vacinas obrigatórias."
   ]
  },
  {
   "cell_type": "code",
   "execution_count": 19,
   "id": "72c15eff",
   "metadata": {},
   "outputs": [
    {
     "name": "stdout",
     "output_type": "stream",
     "text": [
      "Digite seu nome: caroline\n",
      "Digite o nome do seu pet: lulu\n",
      "Qual a espécie do seu bichinho? gato\n",
      "Qual a idade do(a) lulu (em anos).2\n",
      "As vacinas dele(a) estão em dia? (responda com Sim ou Não)sim\n",
      "Sr(a) caroline, \n",
      "      responsável pelo pet lulu: especie gato, idade 2 anos, vacinas em dia: sim.\n"
     ]
    }
   ],
   "source": [
    "nome_usuario = input(\"Digite seu nome: \")\n",
    "nome_pet = input(\"Digite o nome do seu pet: \")\n",
    "esp = input(\"Qual a espécie do seu bichinho? \")\n",
    "idade_pet = input(\"Qual a idade do(a) {} (em anos).\".format(nome_pet))\n",
    "vacina = input(\"As vacinas dele(a) estão em dia? (responda com Sim ou Não)\")\n",
    "\n",
    "print(\"\"\"Sr(a) {}, \n",
    "responsável pelo pet {}: especie {}, idade {} anos, vacinas em dia: {}.\"\"\".format(nome_usuario, nome_pet, esp, idade_pet, vacina))"
   ]
  }
 ],
 "metadata": {
  "kernelspec": {
   "display_name": "Python 3 (ipykernel)",
   "language": "python",
   "name": "python3"
  },
  "language_info": {
   "codemirror_mode": {
    "name": "ipython",
    "version": 3
   },
   "file_extension": ".py",
   "mimetype": "text/x-python",
   "name": "python",
   "nbconvert_exporter": "python",
   "pygments_lexer": "ipython3",
   "version": "3.11.3"
  }
 },
 "nbformat": 4,
 "nbformat_minor": 5
}
