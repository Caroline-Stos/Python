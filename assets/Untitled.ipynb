{
 "cells": [
  {
   "cell_type": "code",
   "execution_count": null,
   "id": "5ad8a000",
   "metadata": {},
   "outputs": [
    {
     "name": "stdout",
     "output_type": "stream",
     "text": [
      "[{'nome': 'carhjhgj', 'idade': '25'}]\n"
     ]
    }
   ],
   "source": [
    "import tkinter as tk\n",
    "from tkinter import ttk\n",
    "from tkinter import messagebox\n",
    "import matplotlib.pyplot as plt\n",
    "\n",
    "pacientes = []\n",
    "\n",
    "def armazenar_var():\n",
    "    nome = entry1.get()\n",
    "    idade = entry2.get()\n",
    "    paciente = {'nome': nome, 'idade': idade}\n",
    "    pacientes.append(paciente)\n",
    "    messagebox.showinfo('RESULTADO', 'Cadastrado com sucesso.')\n",
    "    print(pacientes)\n",
    "    #if len(idades) == 3:\n",
    "        #plt.bar(nomes, idades)\n",
    "        #plt.xlabel('Nome')\n",
    "        #plt.ylabel('Idade')\n",
    "        #plt.title('RELATÓRIO - IDADES')\n",
    "        #plt.xticks(rotation=45)\n",
    "        #plt.tight_layout()\n",
    "        #plt.show()\n",
    "\n",
    "root = tk.Tk()\n",
    "root.title('Relatório')\n",
    "root.geometry('300x300')\n",
    "\n",
    "title = tk.Label(root, text='FORMULÁRIO')\n",
    "title.pack()\n",
    "\n",
    "#frame do primeiro input\n",
    "name = tk.Label(root, text='Informe seu nome:')\n",
    "name.pack()\n",
    "entry1 = tk.Entry(root, bd=5)\n",
    "entry1.pack()\n",
    "#entry1.select_clear()\n",
    "\n",
    "#frame do segundo input\n",
    "age = tk.Label(root, text='Informe sua idade:')\n",
    "age.pack()\n",
    "entry2 = tk.Entry(root, bd=5)\n",
    "entry2.pack()\n",
    "#entry2.select_clear()\n",
    "\n",
    "#botao enviar\n",
    "botao = tk.Button(root, text='ENVIAR')\n",
    "botao.pack()\n",
    "botao.config(command=armazenar_var)\n",
    "\n",
    "root.mainloop()"
   ]
  },
  {
   "cell_type": "code",
   "execution_count": null,
   "id": "e3e06109",
   "metadata": {},
   "outputs": [],
   "source": []
  },
  {
   "cell_type": "code",
   "execution_count": null,
   "id": "94b3ea28",
   "metadata": {},
   "outputs": [],
   "source": []
  }
 ],
 "metadata": {
  "kernelspec": {
   "display_name": "Python 3 (ipykernel)",
   "language": "python",
   "name": "python3"
  },
  "language_info": {
   "codemirror_mode": {
    "name": "ipython",
    "version": 3
   },
   "file_extension": ".py",
   "mimetype": "text/x-python",
   "name": "python",
   "nbconvert_exporter": "python",
   "pygments_lexer": "ipython3",
   "version": "3.11.3"
  }
 },
 "nbformat": 4,
 "nbformat_minor": 5
}
