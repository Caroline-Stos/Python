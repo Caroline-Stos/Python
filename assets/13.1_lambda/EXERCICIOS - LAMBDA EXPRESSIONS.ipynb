{
 "cells": [
  {
   "cell_type": "markdown",
   "id": "a89c014e",
   "metadata": {},
   "source": [
    "### Exercícios de Lambda Expressions\n",
    "####   ***** Tente fazer sozinho antes de consultar  *****"
   ]
  },
  {
   "cell_type": "markdown",
   "id": "8061fbc9",
   "metadata": {},
   "source": [
    "#### Exercício 1:\n",
    "Crie uma expressão lambda que retorne o quadrado de um número."
   ]
  },
  {
   "cell_type": "code",
   "execution_count": 62,
   "id": "395f7952",
   "metadata": {},
   "outputs": [
    {
     "name": "stdout",
     "output_type": "stream",
     "text": [
      "O quadrado de 10 é 100\n"
     ]
    }
   ],
   "source": [
    "numero = int(input('Digite um numero'))\n",
    "quadrado = lambda numero: numero ** 2\n",
    "resultado = quadrado(numero)\n",
    "print('O quadrado de {} é {}'.format(numero, resultado))"
   ]
  },
  {
   "cell_type": "markdown",
   "id": "1bbe7872",
   "metadata": {},
   "source": [
    "#### Exercício 2:\n",
    "Escreva uma expressão lambda que verifique se um número é par.\n"
   ]
  },
  {
   "cell_type": "code",
   "execution_count": 61,
   "id": "7abd8103",
   "metadata": {},
   "outputs": [
    {
     "name": "stdout",
     "output_type": "stream",
     "text": [
      "True\n"
     ]
    }
   ],
   "source": [
    "num_par = lambda numero: numero % 2 == 0\n",
    "print(num_par(10))"
   ]
  },
  {
   "cell_type": "markdown",
   "id": "6437f95e",
   "metadata": {},
   "source": [
    "#### Exercício 3:\n",
    "Crie uma expressão lambda que calcule a média de três números."
   ]
  },
  {
   "cell_type": "code",
   "execution_count": 33,
   "id": "aa73c6e5",
   "metadata": {},
   "outputs": [
    {
     "name": "stdout",
     "output_type": "stream",
     "text": [
      "A media dos numeros é de 51.67\n"
     ]
    }
   ],
   "source": [
    "numeros = [12,45,98]\n",
    "\n",
    "media = lambda soma: sum(numeros) / len(numeros)\n",
    "resultado = media(numeros)\n",
    "print('A media dos numeros é de {:.2f}'.format(resultado))"
   ]
  }
 ],
 "metadata": {
  "kernelspec": {
   "display_name": "Python 3 (ipykernel)",
   "language": "python",
   "name": "python3"
  },
  "language_info": {
   "codemirror_mode": {
    "name": "ipython",
    "version": 3
   },
   "file_extension": ".py",
   "mimetype": "text/x-python",
   "name": "python",
   "nbconvert_exporter": "python",
   "pygments_lexer": "ipython3",
   "version": "3.11.4"
  }
 },
 "nbformat": 4,
 "nbformat_minor": 5
}
