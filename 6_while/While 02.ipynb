{
 "cells": [
  {
   "cell_type": "markdown",
   "metadata": {},
   "source": [
    "# Cuidado com o while -> Loop Infinito\n",
    "\n",
    "Sempre que for usar o comando while, lembre-se de ter certeza que o programa vai terminar em algum momento\n",
    "\n",
    "### Exemplo\n",
    "\n",
    "Digamos que temos uma lista de vendedores e as quantidades vendidas e queremos identificar todos os vendedores que bateram a meta de 50 vendas."
   ]
  },
  {
   "cell_type": "code",
   "execution_count": 27,
   "metadata": {},
   "outputs": [
    {
     "name": "stdout",
     "output_type": "stream",
     "text": [
      "Vendedor(a): Maria, vendeu: 941\n",
      "Vendedor(a): José, vendeu: 852\n",
      "Vendedor(a): Antônio, vendeu: 783\n",
      "Vendedor(a): João, vendeu: 714\n",
      "Vendedor(a): Francisco, vendeu: 697\n",
      "Vendedor(a): Ana, vendeu: 686\n",
      "Vendedor(a): Luiz, vendeu: 685\n",
      "Vendedor(a): Paulo, vendeu: 670\n",
      "Vendedor(a): Carlos, vendeu: 631\n",
      "Vendedor(a): Manoel, vendeu: 453\n",
      "Vendedor(a): Pedro, vendeu: 386\n",
      "Vendedor(a): Francisca, vendeu: 371\n",
      "Vendedor(a): Marcos, vendeu: 294\n",
      "Vendedor(a): Raimundo, vendeu: 269\n",
      "Vendedor(a): Sebastião, vendeu: 259\n",
      "Vendedor(a): Antônia, vendeu: 218\n",
      "Vendedor(a): Marcelo, vendeu: 208\n",
      "Vendedor(a): Jorge, vendeu: 163\n",
      "Vendedor(a): Márcia, vendeu: 125\n",
      "Vendedor(a): Geraldo, vendeu: 102\n",
      "Vendedor(a): Adriana, vendeu: 87\n"
     ]
    }
   ],
   "source": [
    "vendas = [941, 852, 783, 714, 697, 686, 685, 670, 631, 453, 386, 371, 294, 269, 259, 218, 208, 163, 125, 102, 87, 47, 7]\n",
    "vendedores = ['Maria', 'José', 'Antônio', 'João', 'Francisco', 'Ana', 'Luiz', 'Paulo', 'Carlos', 'Manoel', 'Pedro', 'Francisca', 'Marcos', 'Raimundo', 'Sebastião', 'Antônia', 'Marcelo', 'Jorge', 'Márcia', 'Geraldo', 'Adriana', 'Sandra', 'Luis']\n",
    "\n",
    "meta = 50\n",
    "i = 0\n",
    "\n",
    "while i < len(vendas):\n",
    "      if vendas[i] >= meta:\n",
    "        print(f'Vendedor(a): {vendedores[i]}, vendeu: {vendas[i]}')\n",
    "      i += 1"
   ]
  }
 ],
 "metadata": {
  "kernelspec": {
   "display_name": "Python 3 (ipykernel)",
   "language": "python",
   "name": "python3"
  },
  "language_info": {
   "codemirror_mode": {
    "name": "ipython",
    "version": 3
   },
   "file_extension": ".py",
   "mimetype": "text/x-python",
   "name": "python",
   "nbconvert_exporter": "python",
   "pygments_lexer": "ipython3",
   "version": "3.11.5"
  }
 },
 "nbformat": 4,
 "nbformat_minor": 4
}
