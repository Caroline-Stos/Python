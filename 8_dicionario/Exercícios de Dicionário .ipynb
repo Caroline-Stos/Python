{
 "cells": [
  {
   "cell_type": "markdown",
   "id": "d1096e68",
   "metadata": {},
   "source": [
    "# Exercícios de tuplas "
   ]
  },
  {
   "cell_type": "markdown",
   "id": "32c8fef7",
   "metadata": {},
   "source": [
    "## Esses exercícios ajudarão você a praticar o uso de dicionários em diferentes contextos e situações. Experimente resolver cada um deles para aprimorar suas habilidades em manipulação de dicionários em Python."
   ]
  },
  {
   "cell_type": "markdown",
   "id": "4a90b37f",
   "metadata": {},
   "source": [
    "# Exercício 1: Contagem de Palavras\n",
    "### Crie uma função que recebe uma string como entrada e retorna um dicionário onde as chaves são as palavras da string e os valores são a contagem de vezes que cada palavra aparece."
   ]
  },
  {
   "cell_type": "code",
   "execution_count": 62,
   "id": "ff702f47",
   "metadata": {},
   "outputs": [
    {
     "name": "stdout",
     "output_type": "stream",
     "text": [
      "Digite uma palavra: caroline\n",
      "Digite uma palavra: caroline\n",
      "[2]\n",
      "Digite uma palavra: caroline\n",
      "[3]\n",
      "Digite uma palavra: caroline\n",
      "[4]\n",
      "Digite uma palavra: caroline\n",
      "[5]\n",
      "Digite uma palavra: carol\n",
      "Digite uma palavra: carol\n",
      "[5, 7]\n"
     ]
    },
    {
     "ename": "KeyboardInterrupt",
     "evalue": "Interrupted by user",
     "output_type": "error",
     "traceback": [
      "\u001b[1;31m---------------------------------------------------------------------------\u001b[0m",
      "\u001b[1;31mKeyboardInterrupt\u001b[0m                         Traceback (most recent call last)",
      "Cell \u001b[1;32mIn[62], line 7\u001b[0m\n\u001b[0;32m      4\u001b[0m i \u001b[38;5;241m=\u001b[39m \u001b[38;5;241m1\u001b[39m\n\u001b[0;32m      6\u001b[0m \u001b[38;5;28;01mfor\u001b[39;00m i \u001b[38;5;129;01min\u001b[39;00m \u001b[38;5;28mrange\u001b[39m(\u001b[38;5;241m10\u001b[39m):\n\u001b[1;32m----> 7\u001b[0m     palavra \u001b[38;5;241m=\u001b[39m \u001b[38;5;28minput\u001b[39m(\u001b[38;5;124m'\u001b[39m\u001b[38;5;124mDigite uma palavra: \u001b[39m\u001b[38;5;124m'\u001b[39m)\n\u001b[0;32m      8\u001b[0m     \u001b[38;5;28;01mif\u001b[39;00m palavra \u001b[38;5;241m!=\u001b[39m \u001b[38;5;124m'\u001b[39m\u001b[38;5;124m'\u001b[39m:\n\u001b[0;32m      9\u001b[0m         \u001b[38;5;28;01mif\u001b[39;00m palavra \u001b[38;5;129;01min\u001b[39;00m palavras:\n",
      "File \u001b[1;32m~\\anaconda3\\Lib\\site-packages\\ipykernel\\kernelbase.py:1175\u001b[0m, in \u001b[0;36mKernel.raw_input\u001b[1;34m(self, prompt)\u001b[0m\n\u001b[0;32m   1171\u001b[0m \u001b[38;5;28;01mif\u001b[39;00m \u001b[38;5;129;01mnot\u001b[39;00m \u001b[38;5;28mself\u001b[39m\u001b[38;5;241m.\u001b[39m_allow_stdin:\n\u001b[0;32m   1172\u001b[0m     \u001b[38;5;28;01mraise\u001b[39;00m StdinNotImplementedError(\n\u001b[0;32m   1173\u001b[0m         \u001b[38;5;124m\"\u001b[39m\u001b[38;5;124mraw_input was called, but this frontend does not support input requests.\u001b[39m\u001b[38;5;124m\"\u001b[39m\n\u001b[0;32m   1174\u001b[0m     )\n\u001b[1;32m-> 1175\u001b[0m \u001b[38;5;28;01mreturn\u001b[39;00m \u001b[38;5;28mself\u001b[39m\u001b[38;5;241m.\u001b[39m_input_request(\n\u001b[0;32m   1176\u001b[0m     \u001b[38;5;28mstr\u001b[39m(prompt),\n\u001b[0;32m   1177\u001b[0m     \u001b[38;5;28mself\u001b[39m\u001b[38;5;241m.\u001b[39m_parent_ident[\u001b[38;5;124m\"\u001b[39m\u001b[38;5;124mshell\u001b[39m\u001b[38;5;124m\"\u001b[39m],\n\u001b[0;32m   1178\u001b[0m     \u001b[38;5;28mself\u001b[39m\u001b[38;5;241m.\u001b[39mget_parent(\u001b[38;5;124m\"\u001b[39m\u001b[38;5;124mshell\u001b[39m\u001b[38;5;124m\"\u001b[39m),\n\u001b[0;32m   1179\u001b[0m     password\u001b[38;5;241m=\u001b[39m\u001b[38;5;28;01mFalse\u001b[39;00m,\n\u001b[0;32m   1180\u001b[0m )\n",
      "File \u001b[1;32m~\\anaconda3\\Lib\\site-packages\\ipykernel\\kernelbase.py:1217\u001b[0m, in \u001b[0;36mKernel._input_request\u001b[1;34m(self, prompt, ident, parent, password)\u001b[0m\n\u001b[0;32m   1214\u001b[0m             \u001b[38;5;28;01mbreak\u001b[39;00m\n\u001b[0;32m   1215\u001b[0m \u001b[38;5;28;01mexcept\u001b[39;00m \u001b[38;5;167;01mKeyboardInterrupt\u001b[39;00m:\n\u001b[0;32m   1216\u001b[0m     \u001b[38;5;66;03m# re-raise KeyboardInterrupt, to truncate traceback\u001b[39;00m\n\u001b[1;32m-> 1217\u001b[0m     \u001b[38;5;28;01mraise\u001b[39;00m \u001b[38;5;167;01mKeyboardInterrupt\u001b[39;00m(\u001b[38;5;124m\"\u001b[39m\u001b[38;5;124mInterrupted by user\u001b[39m\u001b[38;5;124m\"\u001b[39m) \u001b[38;5;28;01mfrom\u001b[39;00m \u001b[38;5;28;01mNone\u001b[39;00m\n\u001b[0;32m   1218\u001b[0m \u001b[38;5;28;01mexcept\u001b[39;00m \u001b[38;5;167;01mException\u001b[39;00m:\n\u001b[0;32m   1219\u001b[0m     \u001b[38;5;28mself\u001b[39m\u001b[38;5;241m.\u001b[39mlog\u001b[38;5;241m.\u001b[39mwarning(\u001b[38;5;124m\"\u001b[39m\u001b[38;5;124mInvalid Message:\u001b[39m\u001b[38;5;124m\"\u001b[39m, exc_info\u001b[38;5;241m=\u001b[39m\u001b[38;5;28;01mTrue\u001b[39;00m)\n",
      "\u001b[1;31mKeyboardInterrupt\u001b[0m: Interrupted by user"
     ]
    }
   ],
   "source": [
    "qtdes = []\n",
    "palavras = []\n",
    "\n",
    "i = 1\n",
    "\n",
    "for i in range(10):\n",
    "    palavra = input('Digite uma palavra: ')\n",
    "    if palavra != '':\n",
    "        if palavra in palavras:\n",
    "            posicao = palavras.index(palavra) \n",
    "            qtdes[posicao] = palavras.count(palavra) + \n",
    "            print(qtdes)\n",
    "        else:\n",
    "            palavras.append(palavra)\n",
    "            qtdes.append(1)\n",
    "    else:\n",
    "        break\n",
    "    \n",
    "print(palavras)\n",
    "print(qtdes)\n",
    "lista_dicionario = zip(palavras, qtdes)\n",
    "for item in lista_dicionario:\n",
    "    print(item)\n"
   ]
  },
  {
   "cell_type": "markdown",
   "id": "946d6af0",
   "metadata": {},
   "source": [
    "# Exercício 2: Registro de Alunos\n",
    "### Crie um programa que permite registrar informações sobre alunos, como nome, idade e nota. Use um dicionário para armazenar essas informações e permita que o usuário adicione novos alunos e visualize os detalhes dos alunos existentes."
   ]
  },
  {
   "cell_type": "code",
   "execution_count": 22,
   "id": "4bbebc70",
   "metadata": {},
   "outputs": [
    {
     "name": "stdout",
     "output_type": "stream",
     "text": [
      "Aluno: carol, Idade: 25, Nota: 10\n",
      "Aluno: fernando, Idade: 18, Nota: 9\n"
     ]
    },
    {
     "ename": "ValueError",
     "evalue": "invalid literal for int() with base 10: ''",
     "output_type": "error",
     "traceback": [
      "\u001b[1;31m---------------------------------------------------------------------------\u001b[0m",
      "\u001b[1;31mValueError\u001b[0m                                Traceback (most recent call last)",
      "\u001b[1;32mc:\\Users\\user\\Desktop\\SENAI\\2º SEM\\Python\\8_dicionario\\Exercícios de Dicionário .ipynb Cell 6\u001b[0m line \u001b[0;36m1\n\u001b[0;32m      <a href='vscode-notebook-cell:/c%3A/Users/user/Desktop/SENAI/2%C2%BA%20SEM/Python/8_dicionario/Exerc%C3%ADcios%20de%20Dicion%C3%A1rio%20.ipynb#W5sZmlsZQ%3D%3D?line=7'>8</a>\u001b[0m     \u001b[39mfor\u001b[39;00m aluno \u001b[39min\u001b[39;00m alunos:\n\u001b[0;32m      <a href='vscode-notebook-cell:/c%3A/Users/user/Desktop/SENAI/2%C2%BA%20SEM/Python/8_dicionario/Exerc%C3%ADcios%20de%20Dicion%C3%A1rio%20.ipynb#W5sZmlsZQ%3D%3D?line=8'>9</a>\u001b[0m         \u001b[39mprint\u001b[39m(\u001b[39m'\u001b[39m\u001b[39mAluno: \u001b[39m\u001b[39m{}\u001b[39;00m\u001b[39m, Idade: \u001b[39m\u001b[39m{}\u001b[39;00m\u001b[39m, Nota: \u001b[39m\u001b[39m{}\u001b[39;00m\u001b[39m'\u001b[39m\u001b[39m.\u001b[39mformat(aluno[\u001b[39m'\u001b[39m\u001b[39mnome\u001b[39m\u001b[39m'\u001b[39m], aluno[\u001b[39m'\u001b[39m\u001b[39midade\u001b[39m\u001b[39m'\u001b[39m], aluno[\u001b[39m'\u001b[39m\u001b[39mnota\u001b[39m\u001b[39m'\u001b[39m]))\n\u001b[1;32m---> <a href='vscode-notebook-cell:/c%3A/Users/user/Desktop/SENAI/2%C2%BA%20SEM/Python/8_dicionario/Exerc%C3%ADcios%20de%20Dicion%C3%A1rio%20.ipynb#W5sZmlsZQ%3D%3D?line=9'>10</a>\u001b[0m idade \u001b[39m=\u001b[39m \u001b[39mint\u001b[39;49m(\u001b[39minput\u001b[39;49m(\u001b[39m'\u001b[39;49m\u001b[39mDigite a idade do aluno: \u001b[39;49m\u001b[39m'\u001b[39;49m))\n\u001b[0;32m     <a href='vscode-notebook-cell:/c%3A/Users/user/Desktop/SENAI/2%C2%BA%20SEM/Python/8_dicionario/Exerc%C3%ADcios%20de%20Dicion%C3%A1rio%20.ipynb#W5sZmlsZQ%3D%3D?line=10'>11</a>\u001b[0m nota \u001b[39m=\u001b[39m \u001b[39mint\u001b[39m(\u001b[39minput\u001b[39m(\u001b[39m'\u001b[39m\u001b[39mDigite a nota do aluno: \u001b[39m\u001b[39m'\u001b[39m))\n\u001b[0;32m     <a href='vscode-notebook-cell:/c%3A/Users/user/Desktop/SENAI/2%C2%BA%20SEM/Python/8_dicionario/Exerc%C3%ADcios%20de%20Dicion%C3%A1rio%20.ipynb#W5sZmlsZQ%3D%3D?line=11'>12</a>\u001b[0m aluno \u001b[39m=\u001b[39m {\u001b[39m'\u001b[39m\u001b[39mnome\u001b[39m\u001b[39m'\u001b[39m: nome, \u001b[39m'\u001b[39m\u001b[39midade\u001b[39m\u001b[39m'\u001b[39m: idade, \u001b[39m'\u001b[39m\u001b[39mnota\u001b[39m\u001b[39m'\u001b[39m : nota}\n",
      "\u001b[1;31mValueError\u001b[0m: invalid literal for int() with base 10: ''"
     ]
    }
   ],
   "source": [
    "alunos = []\n",
    "\n",
    "while True:\n",
    "    nome = input('Digite o nome do aluno: ')\n",
    "    if nome == '':\n",
    "        for aluno in alunos:\n",
    "            print('Aluno: {}, Idade: {}, Nota: {}'.format(aluno['nome'], aluno['idade'], aluno['nota']))\n",
    "            break\n",
    "    idade = int(input('Digite a idade do aluno: '))\n",
    "    nota = int(input('Digite a nota do aluno: '))\n",
    "    aluno = {'nome': nome, 'idade': idade, 'nota' : nota}\n",
    "    alunos.append(aluno)\n"
   ]
  },
  {
   "cell_type": "markdown",
   "id": "0a7de75b",
   "metadata": {},
   "source": [
    "# Exercício 3: Tradutor Simples\n",
    "### Crie um dicionário que mapeie algumas palavras em inglês para suas traduções em outro idioma. Peça ao usuário para digitar uma palavra em inglês e exiba a tradução correspondente."
   ]
  },
  {
   "cell_type": "code",
   "execution_count": 13,
   "id": "370a137c",
   "metadata": {},
   "outputs": [
    {
     "name": "stdout",
     "output_type": "stream",
     "text": [
      "Digite a palavra em portugues: amor\n",
      "A tradução para o inglês é:  love\n"
     ]
    }
   ],
   "source": [
    "palavra_ingles = {'amor': 'love', 'book': 'livro', 'cabeça': 'head', 'vento': 'wind'}\n",
    "\n",
    "palavra = input('Digite a palavra em portugues: ')\n",
    "\n",
    "for i in palavra_ingles:\n",
    "    if palavra == i:\n",
    "        print('A tradução para o inglês é: ', palavra_ingles.get(palavra))"
   ]
  },
  {
   "cell_type": "markdown",
   "id": "d9d590bc",
   "metadata": {},
   "source": [
    "# Exercício 4: Estoque de Produtos\n",
    "### Crie um programa que simule o controle de estoque de uma loja. Use um dicionário onde as chaves são os nomes dos produtos e os valores são as quantidades em estoque. Permita que o usuário adicione ou remova produtos e atualize as quantidades."
   ]
  },
  {
   "cell_type": "code",
   "execution_count": 64,
   "id": "f93311d7",
   "metadata": {},
   "outputs": [
    {
     "name": "stdout",
     "output_type": "stream",
     "text": [
      "Digite 1 para ADICIONAR um produto ou 2 para ALTERAR e 3 para REMOVER.1\n",
      "Digite o produto que deseja adicionar: short\n",
      "Digite a quantidade atual: 12\n",
      "{'camiseta': 45, 'tenis': 36, 'calça': 80, 'bone': 96, 'short': 12}\n"
     ]
    }
   ],
   "source": [
    "estoque = {'camiseta': 45, 'tenis': 36, 'calça': 80, 'bone': 96}\n",
    "\n",
    "condicao = int(input('Digite 1 para ADICIONAR um produto ou 2 para ALTERAR e 3 para REMOVER.'))\n",
    "\n",
    "if condicao == 1:\n",
    "    add_produto = str(input('Digite o produto que deseja adicionar: '))\n",
    "    qtde = int(input('Digite a quantidade atual: '))\n",
    "    estoque[add_produto] = qtde\n",
    "    print(estoque)\n",
    "\n",
    "if condicao == 2:\n",
    "    alt_produto = str(input('Digite o produto que deseja alterar: '))\n",
    "    qtde = int(input('Digite a quantidade atual: '))                  \n",
    "    estoque[alt_produto] = qtde\n",
    "    print(estoque)\n",
    "    \n",
    "if condicao == 3:\n",
    "    rem_produto = str(input('Digite o produto que deseja remover: '))\n",
    "    del estoque[rem_produto]\n",
    "    print(estoque)\n",
    "    \n"
   ]
  },
  {
   "cell_type": "markdown",
   "id": "31c34736",
   "metadata": {},
   "source": [
    "# Exercício 5: Contagem de Caracteres\n",
    "### Crie uma função que recebe uma string e retorna um dicionário onde as chaves são os caracteres da string e os valores são a contagem de vezes que cada caracter aparece."
   ]
  },
  {
   "cell_type": "code",
   "execution_count": 68,
   "id": "70d8c2c6",
   "metadata": {},
   "outputs": [
    {
     "name": "stdout",
     "output_type": "stream",
     "text": [
      "Digite uma frase: Um novo iterable que não vimos até agora é o SET.\n",
      "['U', 'm', 'n', 'o', 'v', 'o', 'i', 't', 'e', 'r', 'a', 'b', 'l', 'e', 'q', 'u', 'e', 'n', 'ã', 'o', 'v', 'i', 'm', 'o', 's', 'a', 't', 'é', 'a', 'g', 'o', 'r', 'a', 'é', 'o', 'S', 'E', 'T', '.']\n",
      "[1, 1, 1, 1, 1, 2, 1, 1, 1, 1, 1, 1, 1, 2, 1, 1, 3, 2, 1, 3, 2, 2, 2, 4, 1, 2, 2, 1, 3, 1, 5, 2, 4, 2, 6, 1, 1, 1, 1]\n"
     ]
    }
   ],
   "source": [
    "texto = input('Digite uma frase: ').replace(' ','')\n",
    "\n",
    "caracteres = []\n",
    "qtdes = []\n",
    "\n",
    "char = set(caracteres)\n",
    "\n",
    "for i in texto:\n",
    "    caracteres.append(i)\n",
    "    if i in caracteres:\n",
    "        qtde = caracteres.count(i)\n",
    "        qtdes.append(qtde)\n",
    "        \n",
    "print(caracteres)\n",
    "print(qtdes)\n",
    "    \n",
    "\n",
    "        "
   ]
  },
  {
   "cell_type": "markdown",
   "id": "8b8d8f05",
   "metadata": {},
   "source": [
    "# Exercício 6: Agenda de Contatos\n",
    "### Crie um programa que simule uma agenda de contatos. Use um dicionário onde as chaves são os nomes das pessoas e os valores são seus números de telefone. Permita que o usuário adicione, atualize e remova contatos."
   ]
  },
  {
   "cell_type": "code",
   "execution_count": 92,
   "id": "5f5609fe",
   "metadata": {},
   "outputs": [
    {
     "name": "stdout",
     "output_type": "stream",
     "text": [
      "\n",
      "    Digite o que deseja fazer:\n",
      "    1 - ADICIONAR CONTATO\n",
      "    2 - ATUALIZAR CONTATO\n",
      "    3 - EXCLUIR CONTATO\n",
      "    4 - VER LISTA DE CONTATO\n",
      "    1\n",
      "Digite o nome da pessoa que deseja adicionar: caroline\n",
      "Digite o contato da pessoa2222\n",
      "\n",
      "    Digite o que deseja fazer:\n",
      "    1 - ADICIONAR CONTATO\n",
      "    2 - ATUALIZAR CONTATO\n",
      "    3 - EXCLUIR CONTATO\n",
      "    4 - VER LISTA DE CONTATO\n",
      "    2\n",
      "Digite o nome da pessoa que deseja atualizar: caroline\n",
      "Digite o novo contato:666666\n"
     ]
    },
    {
     "ename": "TypeError",
     "evalue": "list indices must be integers or slices, not str",
     "output_type": "error",
     "traceback": [
      "\u001b[1;31m---------------------------------------------------------------------------\u001b[0m",
      "\u001b[1;31mTypeError\u001b[0m                                 Traceback (most recent call last)",
      "Cell \u001b[1;32mIn[92], line 24\u001b[0m\n\u001b[0;32m     22\u001b[0m     tel \u001b[38;5;241m=\u001b[39m \u001b[38;5;28minput\u001b[39m(\u001b[38;5;124m'\u001b[39m\u001b[38;5;124mDigite o novo contato:\u001b[39m\u001b[38;5;124m'\u001b[39m)\n\u001b[0;32m     23\u001b[0m     \u001b[38;5;28;01mif\u001b[39;00m pessoa \u001b[38;5;129;01min\u001b[39;00m pessoas:\n\u001b[1;32m---> 24\u001b[0m         pessoas[pessoa] \u001b[38;5;241m=\u001b[39m tel\n\u001b[0;32m     25\u001b[0m \u001b[38;5;28;01melse\u001b[39;00m:\n\u001b[0;32m     26\u001b[0m     \u001b[38;5;28;01mif\u001b[39;00m condicao \u001b[38;5;241m==\u001b[39m \u001b[38;5;241m3\u001b[39m:\n",
      "\u001b[1;31mTypeError\u001b[0m: list indices must be integers or slices, not str"
     ]
    }
   ],
   "source": [
    "pessoas = []\n",
    "contatos = []\n",
    "\n",
    "contador = 1 \n",
    "\n",
    "while contador > 0:\n",
    "    condicao = int(input(\"\"\"\n",
    "    Digite o que deseja fazer:\n",
    "    1 - ADICIONAR CONTATO\n",
    "    2 - ATUALIZAR CONTATO\n",
    "    3 - EXCLUIR CONTATO\n",
    "    4 - VER LISTA DE CONTATO\n",
    "    \"\"\"))\n",
    "    if condicao == 1:\n",
    "        add_pessoa = input('Digite o nome da pessoa que deseja adicionar: ')\n",
    "        tel = input('Digite o contato da pessoa').replace('-','')\n",
    "        pessoas.append(add_pessoa)\n",
    "        contatos.append(tel)\n",
    "    else:\n",
    "        if condicao == 2:\n",
    "            pessoa = input('Digite o nome da pessoa que deseja atualizar: ')\n",
    "            tel = input('Digite o novo contato:')\n",
    "            if pessoa in pessoas:\n",
    "                pessoas[pessoa] = tel\n",
    "        else:\n",
    "            if condicao == 3:\n",
    "                ex_pessoa = input('Digite a pessoa que deseja remover: ')\n",
    "                if ex_pessoa in pessoas:\n",
    "                    pessoas.remove(ex_pessoa)\n",
    "            else:\n",
    "                if condicao == 4:\n",
    "                    lista_contatos = zip(pessoas, contatos)\n",
    "                    for item in lista_contatos:\n",
    "                        print(item)"
   ]
  },
  {
   "cell_type": "markdown",
   "id": "dfe9aa0c",
   "metadata": {},
   "source": [
    "# Exercício 7: Notas de Alunos\n",
    "### Crie um programa que permite registrar as notas de alunos em várias disciplinas. Use um dicionário aninhado, onde as chaves externas são os nomes dos alunos e as chaves internas são as disciplinas. Permita que o usuário adicione notas e visualize as médias dos alunos."
   ]
  },
  {
   "cell_type": "code",
   "execution_count": 83,
   "id": "8e10caaa",
   "metadata": {},
   "outputs": [
    {
     "name": "stdout",
     "output_type": "stream",
     "text": [
      "Digite o nome do aluno: luiza\n",
      "Digite a materia: geo\n",
      "Digite a nota: 9\n"
     ]
    },
    {
     "ename": "KeyError",
     "evalue": "'luiza'",
     "output_type": "error",
     "traceback": [
      "\u001b[1;31m---------------------------------------------------------------------------\u001b[0m",
      "\u001b[1;31mKeyError\u001b[0m                                  Traceback (most recent call last)",
      "Cell \u001b[1;32mIn[83], line 12\u001b[0m\n\u001b[0;32m     10\u001b[0m     materia \u001b[38;5;241m=\u001b[39m \u001b[38;5;28minput\u001b[39m(\u001b[38;5;124m'\u001b[39m\u001b[38;5;124mDigite a materia: \u001b[39m\u001b[38;5;124m'\u001b[39m)\n\u001b[0;32m     11\u001b[0m     nota \u001b[38;5;241m=\u001b[39m \u001b[38;5;28mint\u001b[39m(\u001b[38;5;28minput\u001b[39m(\u001b[38;5;124m'\u001b[39m\u001b[38;5;124mDigite a nota: \u001b[39m\u001b[38;5;124m'\u001b[39m))\n\u001b[1;32m---> 12\u001b[0m     disciplinas[aluno][materia] \u001b[38;5;241m=\u001b[39m nota\n\u001b[0;32m     14\u001b[0m \u001b[38;5;28;01mfor\u001b[39;00m item \u001b[38;5;129;01min\u001b[39;00m disciplinas:\n\u001b[0;32m     15\u001b[0m     \u001b[38;5;28mprint\u001b[39m(item)\n",
      "\u001b[1;31mKeyError\u001b[0m: 'luiza'"
     ]
    }
   ],
   "source": [
    "alunos = {\n",
    "    'Luiza': {'geo': 0,'mat': 0,'por': 0,'his': 0,'cie': 0},\n",
    "    'Lucas': {'geo': 0,'mat': 0,'por': 0,'his': 0,'cie': 0},\n",
    "    'Marcela': {'geo': 0,'mat': 0,'por': 0,'his': 0,'cie': 0}\n",
    "}\n",
    "\n",
    "aluno = input('Digite o nome do aluno: ')\n",
    "\n",
    "while aluno != '':\n",
    "    materia = input('Digite a materia: ')\n",
    "    nota = int(input('Digite a nota: '))\n",
    "    alunos[aluno][materia] = nota\n",
    "    \n",
    "for item in alunos:\n",
    "    print(item)\n"
   ]
  },
  {
   "cell_type": "markdown",
   "id": "c81f0cb4",
   "metadata": {},
   "source": [
    "# Exercício 8: Contagem de Letras em Palavras\n",
    "### Crie uma função que recebe uma lista de palavras e retorna um dicionário onde as chaves são as letras presentes nas palavras e os valores são a contagem total de vezes que cada letra aparece."
   ]
  },
  {
   "cell_type": "code",
   "execution_count": null,
   "id": "5f058fef",
   "metadata": {},
   "outputs": [],
   "source": [
    "char = []\n",
    "qtdes = []\n",
    "\n",
    "for i in range(2):\n",
    "    palavra = input('Digite uma palavra')\n",
    "    char += palavra\n",
    "\n",
    "for i in char:\n",
    "    qtde = char.count(i)\n",
    "    qtdes += qtde[i]\n",
    "    \n",
    "print(char)\n",
    "    \n",
    "    \n",
    "    \n",
    "#dict = zip(lista)\n",
    "#for item in dict:\n",
    "    #print(item)\n"
   ]
  },
  {
   "cell_type": "markdown",
   "id": "ac2a2456",
   "metadata": {},
   "source": [
    "# Exercício 9: Calculadora de Despesas\n",
    "### Crie um programa que simule o controle de despesas de um grupo de amigos. Use um dicionário onde as chaves são os nomes dos amigos e os valores são listas de despesas. Permita que o usuário adicione despesas e calcule quanto cada pessoa deve pagar."
   ]
  },
  {
   "cell_type": "code",
   "execution_count": null,
   "id": "9987e73e",
   "metadata": {},
   "outputs": [],
   "source": []
  },
  {
   "cell_type": "markdown",
   "id": "07c1ee0b",
   "metadata": {},
   "source": [
    "# Exercício 10: Jogo de Trívia\n",
    "### Crie um jogo de trívia em que o programa faz perguntas e o usuário responde. Use um dicionário onde as chaves são as perguntas e os valores são as respostas corretas. Mostre as perguntas ao usuário, solicite a resposta e informe se ele acertou ou errou."
   ]
  },
  {
   "cell_type": "code",
   "execution_count": null,
   "id": "0d47f9f5",
   "metadata": {},
   "outputs": [],
   "source": []
  }
 ],
 "metadata": {
  "kernelspec": {
   "display_name": "Python 3 (ipykernel)",
   "language": "python",
   "name": "python3"
  },
  "language_info": {
   "codemirror_mode": {
    "name": "ipython",
    "version": 3
   },
   "file_extension": ".py",
   "mimetype": "text/x-python",
   "name": "python",
   "nbconvert_exporter": "python",
   "pygments_lexer": "ipython3",
   "version": "3.11.5"
  }
 },
 "nbformat": 4,
 "nbformat_minor": 5
}
